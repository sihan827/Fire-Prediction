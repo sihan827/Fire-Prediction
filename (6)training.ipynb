{
 "cells": [
  {
   "cell_type": "code",
   "execution_count": 9,
   "metadata": {},
   "outputs": [],
   "source": [
    "import pandas as pd\n",
    "import numpy as np\n",
    "import matplotlib.pyplot as plt\n",
    "import seaborn as sns\n",
    "import warnings\n",
    "\n",
    "warnings.filterwarnings(\"ignore\")"
   ]
  },
  {
   "cell_type": "code",
   "execution_count": 156,
   "metadata": {},
   "outputs": [],
   "source": [
    "# 시드 고정\n",
    "seed = 22"
   ]
  },
  {
   "cell_type": "code",
   "execution_count": 157,
   "metadata": {},
   "outputs": [],
   "source": [
    "# 전처리된 데이터 불러오기\n",
    "df = pd.read_csv('./data/preprocessed_data.csv')"
   ]
  },
  {
   "cell_type": "code",
   "execution_count": 158,
   "metadata": {},
   "outputs": [
    {
     "data": {
      "text/plain": [
       "<Axes: xlabel='fire'>"
      ]
     },
     "execution_count": 158,
     "metadata": {},
     "output_type": "execute_result"
    },
    {
     "data": {
      "image/png": "[encoded data removed]",
      "text/plain": [
       "<Figure size 640x480 with 1 Axes>"
      ]
     },
     "metadata": {},
     "output_type": "display_data"
    }
   ],
   "source": [
    "# 불이 안난 경우가 훨씬 많음\n",
    "df['fire'].value_counts().plot.bar()"
   ]
  },
  {
   "attachments": {},
   "cell_type": "markdown",
   "metadata": {},
   "source": [
    "# 1. Random Undersampling"
   ]
  },
  {
   "cell_type": "code",
   "execution_count": 159,
   "metadata": {},
   "outputs": [
    {
     "data": {
      "text/html": [
       "<div>\n",
       "<style scoped>\n",
       "    .dataframe tbody tr th:only-of-type {\n",
       "        vertical-align: middle;\n",
       "    }\n",
       "\n",
       "    .dataframe tbody tr th {\n",
       "        vertical-align: top;\n",
       "    }\n",
       "\n",
       "    .dataframe thead th {\n",
       "        text-align: right;\n",
       "    }\n",
       "</style>\n",
       "<table border=\"1\" class=\"dataframe\">\n",
       "  <thead>\n",
       "    <tr style=\"text-align: right;\">\n",
       "      <th></th>\n",
       "      <th>month</th>\n",
       "      <th>x</th>\n",
       "      <th>y</th>\n",
       "      <th>pop_rate</th>\n",
       "      <th>old_pop_rate</th>\n",
       "      <th>sto_num</th>\n",
       "      <th>barn_spwn_num</th>\n",
       "      <th>avg_temp</th>\n",
       "      <th>min_temp</th>\n",
       "      <th>max_temp</th>\n",
       "      <th>avg_hum</th>\n",
       "      <th>daily_pre</th>\n",
       "      <th>avg_wind</th>\n",
       "      <th>field_fire</th>\n",
       "      <th>green_fire</th>\n",
       "      <th>fire</th>\n",
       "    </tr>\n",
       "  </thead>\n",
       "  <tbody>\n",
       "    <tr>\n",
       "      <th>1850</th>\n",
       "      <td>2</td>\n",
       "      <td>0.642857</td>\n",
       "      <td>0.714286</td>\n",
       "      <td>0.974965</td>\n",
       "      <td>0.732883</td>\n",
       "      <td>0.000000</td>\n",
       "      <td>0.0</td>\n",
       "      <td>0.365285</td>\n",
       "      <td>0.432507</td>\n",
       "      <td>0.320388</td>\n",
       "      <td>0.900735</td>\n",
       "      <td>0.195187</td>\n",
       "      <td>0.212121</td>\n",
       "      <td>0.571429</td>\n",
       "      <td>0.571429</td>\n",
       "      <td>1.0</td>\n",
       "    </tr>\n",
       "    <tr>\n",
       "      <th>4283</th>\n",
       "      <td>8</td>\n",
       "      <td>0.571429</td>\n",
       "      <td>0.285714</td>\n",
       "      <td>0.037543</td>\n",
       "      <td>0.091538</td>\n",
       "      <td>0.018868</td>\n",
       "      <td>0.0</td>\n",
       "      <td>0.898964</td>\n",
       "      <td>0.961433</td>\n",
       "      <td>0.798544</td>\n",
       "      <td>0.612132</td>\n",
       "      <td>0.000000</td>\n",
       "      <td>0.454545</td>\n",
       "      <td>0.142857</td>\n",
       "      <td>0.142857</td>\n",
       "      <td>0.0</td>\n",
       "    </tr>\n",
       "    <tr>\n",
       "      <th>10232</th>\n",
       "      <td>4</td>\n",
       "      <td>0.357143</td>\n",
       "      <td>0.285714</td>\n",
       "      <td>0.021799</td>\n",
       "      <td>0.048211</td>\n",
       "      <td>0.056604</td>\n",
       "      <td>0.0</td>\n",
       "      <td>0.536269</td>\n",
       "      <td>0.537190</td>\n",
       "      <td>0.541262</td>\n",
       "      <td>0.619485</td>\n",
       "      <td>0.000000</td>\n",
       "      <td>0.212121</td>\n",
       "      <td>0.000000</td>\n",
       "      <td>0.000000</td>\n",
       "      <td>0.0</td>\n",
       "    </tr>\n",
       "    <tr>\n",
       "      <th>10272</th>\n",
       "      <td>4</td>\n",
       "      <td>0.571429</td>\n",
       "      <td>0.642857</td>\n",
       "      <td>0.341915</td>\n",
       "      <td>0.417507</td>\n",
       "      <td>0.358491</td>\n",
       "      <td>0.0</td>\n",
       "      <td>0.536269</td>\n",
       "      <td>0.537190</td>\n",
       "      <td>0.541262</td>\n",
       "      <td>0.619485</td>\n",
       "      <td>0.000000</td>\n",
       "      <td>0.212121</td>\n",
       "      <td>0.571429</td>\n",
       "      <td>0.571429</td>\n",
       "      <td>1.0</td>\n",
       "    </tr>\n",
       "    <tr>\n",
       "      <th>10485</th>\n",
       "      <td>6</td>\n",
       "      <td>0.142857</td>\n",
       "      <td>0.642857</td>\n",
       "      <td>0.017771</td>\n",
       "      <td>0.037122</td>\n",
       "      <td>0.056604</td>\n",
       "      <td>0.0</td>\n",
       "      <td>0.753886</td>\n",
       "      <td>0.707989</td>\n",
       "      <td>0.813107</td>\n",
       "      <td>0.347426</td>\n",
       "      <td>0.000000</td>\n",
       "      <td>0.333333</td>\n",
       "      <td>0.285714</td>\n",
       "      <td>0.285714</td>\n",
       "      <td>1.0</td>\n",
       "    </tr>\n",
       "  </tbody>\n",
       "</table>\n",
       "</div>"
      ],
      "text/plain": [
       "       month         x         y  pop_rate  old_pop_rate   sto_num  \\\n",
       "1850       2  0.642857  0.714286  0.974965      0.732883  0.000000   \n",
       "4283       8  0.571429  0.285714  0.037543      0.091538  0.018868   \n",
       "10232      4  0.357143  0.285714  0.021799      0.048211  0.056604   \n",
       "10272      4  0.571429  0.642857  0.341915      0.417507  0.358491   \n",
       "10485      6  0.142857  0.642857  0.017771      0.037122  0.056604   \n",
       "\n",
       "       barn_spwn_num  avg_temp  min_temp  max_temp   avg_hum  daily_pre  \\\n",
       "1850             0.0  0.365285  0.432507  0.320388  0.900735   0.195187   \n",
       "4283             0.0  0.898964  0.961433  0.798544  0.612132   0.000000   \n",
       "10232            0.0  0.536269  0.537190  0.541262  0.619485   0.000000   \n",
       "10272            0.0  0.536269  0.537190  0.541262  0.619485   0.000000   \n",
       "10485            0.0  0.753886  0.707989  0.813107  0.347426   0.000000   \n",
       "\n",
       "       avg_wind  field_fire  green_fire  fire  \n",
       "1850   0.212121    0.571429    0.571429   1.0  \n",
       "4283   0.454545    0.142857    0.142857   0.0  \n",
       "10232  0.212121    0.000000    0.000000   0.0  \n",
       "10272  0.212121    0.571429    0.571429   1.0  \n",
       "10485  0.333333    0.285714    0.285714   1.0  "
      ]
     },
     "execution_count": 159,
     "metadata": {},
     "output_type": "execute_result"
    }
   ],
   "source": [
    "# 랜덤 언더샘플링으로 화재 발생하지 않은 지역 중 무작위 샘플링으로 라벨 적은 쪽과 개수 맞추기\n",
    "shuffled_df = df.sample(frac=1, random_state=seed)\n",
    "\n",
    "fire_df = shuffled_df.loc[shuffled_df['fire'] != 0]\n",
    "non_fire_df = shuffled_df.loc[shuffled_df['fire'] == 0][:len(fire_df)]\n",
    "\n",
    "norm_df = pd.concat([fire_df, non_fire_df])\n",
    "rand_sub_df = norm_df.sample(frac=1, random_state=seed)\n",
    "\n",
    "rand_sub_df.head()"
   ]
  },
  {
   "cell_type": "code",
   "execution_count": 160,
   "metadata": {},
   "outputs": [
    {
     "data": {
      "text/plain": [
       "<Axes: xlabel='fire'>"
      ]
     },
     "execution_count": 160,
     "metadata": {},
     "output_type": "execute_result"
    },
    {
     "data": {
      "image/png": "[encoded data removed]",
      "text/plain": [
       "<Figure size 640x480 with 1 Axes>"
      ]
     },
     "metadata": {},
     "output_type": "display_data"
    }
   ],
   "source": [
    "# 불이 난 경우와 안난 경우가 같아짐\n",
    "rand_sub_df['fire'].value_counts().plot.bar()"
   ]
  },
  {
   "cell_type": "code",
   "execution_count": 161,
   "metadata": {},
   "outputs": [
    {
     "data": {
      "text/plain": [
       "<Axes: >"
      ]
     },
     "execution_count": 161,
     "metadata": {},
     "output_type": "execute_result"
    },
    {
     "data": {
      "image/png": "[encoded data removed]",
      "text/plain": [
       "<Figure size 640x480 with 2 Axes>"
      ]
     },
     "metadata": {},
     "output_type": "display_data"
    }
   ],
   "source": [
    "# 변수별 상관관계 분석\n",
    "corr_under = rand_sub_df.corr()\n",
    "sns.heatmap(corr_under, cmap='coolwarm_r')"
   ]
  },
  {
   "cell_type": "code",
   "execution_count": 162,
   "metadata": {},
   "outputs": [
    {
     "data": {
      "text/plain": [
       "fire             1.000000\n",
       "field_fire       0.318735\n",
       "green_fire       0.318735\n",
       "old_pop_rate     0.250612\n",
       "pop_rate         0.214544\n",
       "sto_num          0.148041\n",
       "x                0.092901\n",
       "avg_wind         0.051442\n",
       "y               -0.003691\n",
       "barn_spwn_num   -0.005124\n",
       "daily_pre       -0.035464\n",
       "avg_hum         -0.085533\n",
       "month           -0.116969\n",
       "max_temp        -0.133586\n",
       "avg_temp        -0.141111\n",
       "min_temp        -0.145090\n",
       "Name: fire, dtype: float64"
      ]
     },
     "execution_count": 162,
     "metadata": {},
     "output_type": "execute_result"
    }
   ],
   "source": [
    "# 변수별 상관관계 조사\n",
    "corr_under['fire'].sort_values(ascending=False)"
   ]
  },
  {
   "cell_type": "code",
   "execution_count": 163,
   "metadata": {},
   "outputs": [],
   "source": [
    "from sklearn.model_selection import train_test_split, cross_val_score, cross_val_predict, GridSearchCV, StratifiedKFold\n",
    "from sklearn.linear_model import LogisticRegression\n",
    "from sklearn.neighbors import KNeighborsClassifier\n",
    "from sklearn.tree import DecisionTreeClassifier\n",
    "from sklearn.ensemble import RandomForestClassifier, GradientBoostingClassifier\n",
    "from imblearn.pipeline import make_pipeline\n",
    "from imblearn.over_sampling import SMOTE\n",
    "\n",
    "from sklearn.metrics import accuracy_score, recall_score, precision_score, roc_auc_score, f1_score, average_precision_score"
   ]
  },
  {
   "cell_type": "code",
   "execution_count": 164,
   "metadata": {},
   "outputs": [],
   "source": [
    "# train, test 데이터 스플릿\n",
    "X = rand_sub_df.drop('fire', axis=1)\n",
    "y = rand_sub_df['fire']\n",
    "\n",
    "X_train, X_test, y_train, y_test = train_test_split(X, y, test_size=0.2, random_state=seed)"
   ]
  },
  {
   "cell_type": "code",
   "execution_count": 165,
   "metadata": {},
   "outputs": [
    {
     "name": "stdout",
     "output_type": "stream",
     "text": [
      "LogisticRegression 에서 학습 정확도 65.96112311015119 %\n",
      "KNeighborsClassifier 에서 학습 정확도 62.20302375809935 %\n",
      "DecisionTreeClassifier 에서 학습 정확도 58.44492440604752 %\n",
      "RandomForestClassifier 에서 학습 정확도 64.36285097192224 %\n",
      "GradientBoostingClassifier 에서 학습 정확도 66.60907127429805 %\n"
     ]
    }
   ],
   "source": [
    "# 모델 기본 파라미터로 학습\n",
    "classifiers = {\n",
    "    \"로지스틱회귀\": LogisticRegression(),\n",
    "    \"K최근접\": KNeighborsClassifier(),\n",
    "    \"결정트리\": DecisionTreeClassifier(),\n",
    "    \"랜덤포레스트\": RandomForestClassifier(),\n",
    "    \"그라디언트부스팅\": GradientBoostingClassifier()\n",
    "}\n",
    "\n",
    "for _, classifier in classifiers.items():\n",
    "    classifier.fit(X_train, y_train)\n",
    "    training_score = cross_val_score(classifier, X_train, y_train, cv=5)\n",
    "    print(classifier.__class__.__name__, \"에서 학습 정확도\", training_score.mean() * 100, \"%\")"
   ]
  },
  {
   "cell_type": "code",
   "execution_count": 166,
   "metadata": {},
   "outputs": [
    {
     "name": "stdout",
     "output_type": "stream",
     "text": [
      "최고예측정확도: 66.39% 파라미터: {'C': 0.1, 'penalty': 'l2'}\n"
     ]
    }
   ],
   "source": [
    "# 로지스틱회귀 하이퍼파라미터 튜닝\n",
    "lr_params_under = {'penalty': ['l1', 'l2'], 'C': [0.001, 0.01, 0.1, 1, 10, 100, 1000]}\n",
    "\n",
    "lr_grid_under = GridSearchCV(LogisticRegression(), lr_params_under)\n",
    "lr_grid_under.fit(X_train, y_train)\n",
    "lr_best_under = lr_grid_under.best_estimator_\n",
    "\n",
    "print('최고예측정확도: {:.2f}%'.format(lr_grid_under.best_score_ * 100), '파라미터:', lr_grid_under.best_params_)"
   ]
  },
  {
   "cell_type": "code",
   "execution_count": 167,
   "metadata": {},
   "outputs": [
    {
     "name": "stdout",
     "output_type": "stream",
     "text": [
      "최고예측정확도: 62.20% 파라미터: {'algorithm': 'auto', 'n_neighbors': 5}\n"
     ]
    }
   ],
   "source": [
    "# K최근접 하이퍼파라미터 튜닝\n",
    "kn_params_under = {\"n_neighbors\": [2, 3, 4, 5], 'algorithm': ['auto', 'ball_tree', 'kd_tree', 'brute']}\n",
    "\n",
    "kn_grid_under = GridSearchCV(KNeighborsClassifier(), kn_params_under)\n",
    "kn_grid_under.fit(X_train, y_train)\n",
    "kn_best_under = kn_grid_under.best_estimator_\n",
    "\n",
    "print('최고예측정확도: {:.2f}%'.format(kn_grid_under.best_score_ * 100), '파라미터:', kn_grid_under.best_params_)"
   ]
  },
  {
   "cell_type": "code",
   "execution_count": 168,
   "metadata": {},
   "outputs": [
    {
     "name": "stdout",
     "output_type": "stream",
     "text": [
      "최고예측정확도: 65.44% 파라미터: {'criterion': 'entropy', 'max_depth': 4, 'min_samples_leaf': 5}\n"
     ]
    }
   ],
   "source": [
    "# 결정트리 하이퍼파라미터 튜닝\n",
    "dt_params_under = {\"criterion\": [\"gini\", \"entropy\"], \"max_depth\": [2, 3, 4, 5], \"min_samples_leaf\": [5, 6, 7, 8, 9]}\n",
    "\n",
    "dt_grid_under = GridSearchCV(DecisionTreeClassifier(), dt_params_under)\n",
    "dt_grid_under.fit(X_train, y_train)\n",
    "dt_best_under = dt_grid_under.best_estimator_\n",
    "\n",
    "print('최고예측정확도: {:.2f}%'.format(dt_grid_under.best_score_ * 100), '파라미터:', dt_grid_under.best_params_)"
   ]
  },
  {
   "cell_type": "code",
   "execution_count": 169,
   "metadata": {},
   "outputs": [
    {
     "name": "stdout",
     "output_type": "stream",
     "text": [
      "최고예측정확도: 67.47% 파라미터: {'max_depth': 4, 'min_samples_leaf': 8, 'min_samples_split': 16, 'n_estimators': 100}\n"
     ]
    }
   ],
   "source": [
    "# 랜덤포레스트 하이퍼파라미터 튜닝\n",
    "rf_params_under = { 'n_estimators' : [100], 'max_depth' : [4, 6, 8], 'min_samples_leaf' : [8, 12, 18, 20], 'min_samples_split' : [6, 8, 16]}\n",
    "\n",
    "rf_grid_under = GridSearchCV(RandomForestClassifier(), rf_params_under)\n",
    "rf_grid_under.fit(X_train, y_train)\n",
    "rf_best_under = rf_grid_under.best_estimator_\n",
    "\n",
    "print('최고예측정확도: {:.2f}%'.format(rf_grid_under.best_score_ * 100), '파라미터:', rf_grid_under.best_params_)"
   ]
  },
  {
   "cell_type": "code",
   "execution_count": 170,
   "metadata": {},
   "outputs": [
    {
     "name": "stdout",
     "output_type": "stream",
     "text": [
      "최고예측정확도: 67.69% 파라미터: {'max_depth': 13, 'min_samples_split': 800}\n"
     ]
    }
   ],
   "source": [
    "# 그라디언트부스팅 하이퍼파라미터 튜닝\n",
    "gb_params_under = {'max_depth':range(5,16,2), 'min_samples_split':range(200,1001,200)}\n",
    "\n",
    "gb_grid_under = GridSearchCV(GradientBoostingClassifier(learning_rate=0.1, n_estimators=60, max_features='sqrt', subsample=0.8, random_state=10), gb_params_under)\n",
    "gb_grid_under.fit(X_train, y_train)\n",
    "gb_best_under = gb_grid_under.best_estimator_\n",
    "\n",
    "print('최고예측정확도: {:.2f}%'.format(gb_grid_under.best_score_ * 100), '파라미터:', gb_grid_under.best_params_)"
   ]
  },
  {
   "cell_type": "code",
   "execution_count": 171,
   "metadata": {},
   "outputs": [
    {
     "name": "stdout",
     "output_type": "stream",
     "text": [
      "로지스틱 회귀 F1 스코어: 64.95%\n",
      "K최근접 F1 스코어: 62.75%\n",
      "결정트리 F1 스코어: 67.09%\n",
      "랜덤포레스트 F1 스코어: 68.42%\n",
      "그라디언트 부스팅 F1 스코어: 68.87%\n"
     ]
    }
   ],
   "source": [
    "# 모델 알고리즘 f1 스코어 cross validation\n",
    "lr_score_f1_under = cross_val_score(lr_best_under, X_train, y_train, scoring='f1', cv=5).mean()\n",
    "kn_score_f1_under = cross_val_score(kn_best_under, X_train, y_train, scoring='f1', cv=5).mean()\n",
    "dt_score_f1_under = cross_val_score(dt_best_under, X_train, y_train, scoring='f1', cv=5).mean()\n",
    "rf_score_f1_under = cross_val_score(rf_best_under, X_train, y_train, scoring='f1', cv=5).mean()\n",
    "gb_score_f1_under = cross_val_score(gb_best_under, X_train, y_train, scoring='f1', cv=5).mean()\n",
    "\n",
    "print('로지스틱 회귀 F1 스코어: {:.2f}%'.format(lr_score_f1_under * 100))\n",
    "print('K최근접 F1 스코어: {:.2f}%'.format(kn_score_f1_under * 100))\n",
    "print('결정트리 F1 스코어: {:.2f}%'.format(dt_score_f1_under * 100))\n",
    "print('랜덤포레스트 F1 스코어: {:.2f}%'.format(rf_score_f1_under * 100))\n",
    "print('그라디언트 부스팅 F1 스코어: {:.2f}%'.format(gb_score_f1_under * 100))"
   ]
  },
  {
   "cell_type": "code",
   "execution_count": 172,
   "metadata": {},
   "outputs": [
    {
     "name": "stdout",
     "output_type": "stream",
     "text": [
      "로지스틱 회귀 ROC AUC 스코어: 0.71382\n",
      "K최근접 ROC AUC 스코어: 0.62195\n",
      "결정트리 ROC AUC 스코어: 0.65407\n",
      "랜덤포레스트 ROC AUC 스코어: 0.66671\n",
      "그라디언트 부스팅 ROC AUC 스코어: 0.67664\n"
     ]
    }
   ],
   "source": [
    "# 모델 알고리즘 ROC AUC 스코어 cross validation\n",
    "lr_pred_under = cross_val_predict(lr_best_under, X_train, y_train, cv=5, method=\"decision_function\")\n",
    "kn_pred_under = cross_val_predict(kn_best_under, X_train, y_train, cv=5)\n",
    "dt_pred_under = cross_val_predict(dt_best_under, X_train, y_train, cv=5)\n",
    "rf_pred_under = cross_val_predict(rf_best_under, X_train, y_train, cv=5)\n",
    "gb_pred_under = cross_val_predict(gb_best_under, X_train, y_train, cv=5)\n",
    "\n",
    "lr_score_auc_under = roc_auc_score(y_train, lr_pred_under)\n",
    "kn_score_auc_under = roc_auc_score(y_train, kn_pred_under)\n",
    "dt_score_auc_under = roc_auc_score(y_train, dt_pred_under)\n",
    "rf_score_auc_under = roc_auc_score(y_train, rf_pred_under)\n",
    "gb_score_auc_under = roc_auc_score(y_train, gb_pred_under)\n",
    "\n",
    "print('로지스틱 회귀 ROC AUC 스코어: {:.5f}'.format(lr_score_auc_under))\n",
    "print('K최근접 ROC AUC 스코어: {:.5f}'.format(kn_score_auc_under))\n",
    "print('결정트리 ROC AUC 스코어: {:.5f}'.format(dt_score_auc_under))\n",
    "print('랜덤포레스트 ROC AUC 스코어: {:.5f}'.format(rf_score_auc_under))\n",
    "print('그라디언트 부스팅 ROC AUC 스코어: {:.5f}'.format(gb_score_auc_under))"
   ]
  },
  {
   "cell_type": "code",
   "execution_count": 173,
   "metadata": {},
   "outputs": [
    {
     "name": "stdout",
     "output_type": "stream",
     "text": [
      "테스트 로지스틱 회귀 정확도: 68.39%\n",
      "테스트 K최근접 정확도: 63.21%\n",
      "테스트 결정트리 정확도: 67.88%\n",
      "테스트 랜덤포레스트 정확도: 68.05%\n",
      "테스트 그라디언트 부스팅 정확도: 68.91%\n"
     ]
    }
   ],
   "source": [
    "# 테스트 정확도\n",
    "lr_test_pred_under = lr_best_under.predict(X_test)\n",
    "kn_test_pred_under = kn_best_under.predict(X_test)\n",
    "dt_test_pred_under = dt_best_under.predict(X_test)\n",
    "rf_test_pred_under = rf_best_under.predict(X_test)\n",
    "gb_test_pred_under = gb_best_under.predict(X_test)\n",
    "\n",
    "lr_score_acc_under = accuracy_score(y_test, lr_test_pred_under)\n",
    "kn_score_acc_under = accuracy_score(y_test, kn_test_pred_under)\n",
    "dt_score_acc_under = accuracy_score(y_test, dt_test_pred_under)\n",
    "rf_score_acc_under = accuracy_score(y_test, rf_test_pred_under)\n",
    "gb_score_acc_under = accuracy_score(y_test, gb_test_pred_under)\n",
    "\n",
    "print('테스트 로지스틱 회귀 정확도: {:.2f}%'.format(lr_score_acc_under * 100))\n",
    "print('테스트 K최근접 정확도: {:.2f}%'.format(kn_score_acc_under * 100))\n",
    "print('테스트 결정트리 정확도: {:.2f}%'.format(dt_score_acc_under * 100))\n",
    "print('테스트 랜덤포레스트 정확도: {:.2f}%'.format(rf_score_acc_under * 100))\n",
    "print('테스트 그라디언트 부스팅 정확도: {:.2f}%'.format(gb_score_acc_under * 100))"
   ]
  },
  {
   "attachments": {},
   "cell_type": "markdown",
   "metadata": {},
   "source": [
    "Random undersampling에서는 그라디언트 부스팅이 가장 좋은 성능"
   ]
  },
  {
   "attachments": {},
   "cell_type": "markdown",
   "metadata": {},
   "source": [
    "# 2. SMOTE Oversampling"
   ]
  },
  {
   "cell_type": "code",
   "execution_count": 174,
   "metadata": {},
   "outputs": [],
   "source": [
    "# 데이터셋 스플릿\n",
    "X = df.drop('fire', axis=1)\n",
    "y = df['fire']\n",
    "\n",
    "X_train, X_test, y_train, y_test = train_test_split(X, y, test_size=0.2, random_state=seed)"
   ]
  },
  {
   "cell_type": "code",
   "execution_count": 176,
   "metadata": {},
   "outputs": [],
   "source": [
    "# SMOTE 기법으로 오버샘플링\n",
    "# 이를 통해 화재 발생 데이터를 분포에 맞춰 랜덤으로 생성하여 라벨 많은 쪽과 개수 맞추기\n",
    "sm = SMOTE(sampling_strategy='auto', random_state=seed)\n",
    "\n",
    "over_X_train, over_y_train = sm.fit_resample(X_train, y_train)"
   ]
  },
  {
   "cell_type": "code",
   "execution_count": 177,
   "metadata": {},
   "outputs": [
    {
     "data": {
      "text/plain": [
       "<Axes: xlabel='fire'>"
      ]
     },
     "execution_count": 177,
     "metadata": {},
     "output_type": "execute_result"
    },
    {
     "data": {
      "image/png": "[encoded data removed]",
      "text/plain": [
       "<Figure size 640x480 with 1 Axes>"
      ]
     },
     "metadata": {},
     "output_type": "display_data"
    }
   ],
   "source": [
    "# 오버샘플링한 데이터 분포 확인\n",
    "over_y_train.value_counts().plot.bar()"
   ]
  },
  {
   "cell_type": "code",
   "execution_count": 326,
   "metadata": {},
   "outputs": [
    {
     "data": {
      "text/plain": [
       "<Axes: >"
      ]
     },
     "execution_count": 326,
     "metadata": {},
     "output_type": "execute_result"
    },
    {
     "data": {
      "image/png": "[encoded data removed]",
      "text/plain": [
       "<Figure size 640x480 with 2 Axes>"
      ]
     },
     "metadata": {},
     "output_type": "display_data"
    }
   ],
   "source": [
    "# 변수별 상관관계 분석\n",
    "corr_df = over_X_train.copy()\n",
    "corr_df['fire'] = over_y_train\n",
    "corr_over = corr_df.corr()\n",
    "sns.heatmap(corr_over, cmap='coolwarm_r')"
   ]
  },
  {
   "cell_type": "code",
   "execution_count": 327,
   "metadata": {},
   "outputs": [
    {
     "data": {
      "text/plain": [
       "fire             1.000000\n",
       "field_fire       0.344988\n",
       "green_fire       0.344988\n",
       "old_pop_rate     0.284540\n",
       "pop_rate         0.246373\n",
       "sto_num          0.138099\n",
       "x                0.086236\n",
       "avg_wind         0.042375\n",
       "y                0.007963\n",
       "daily_pre       -0.016419\n",
       "barn_spwn_num   -0.018749\n",
       "avg_hum         -0.062556\n",
       "max_temp        -0.108573\n",
       "month           -0.111803\n",
       "avg_temp        -0.116140\n",
       "min_temp        -0.120622\n",
       "Name: fire, dtype: float64"
      ]
     },
     "execution_count": 327,
     "metadata": {},
     "output_type": "execute_result"
    }
   ],
   "source": [
    "# 변수별 상관관계 조사\n",
    "corr_over['fire'].sort_values(ascending=False)"
   ]
  },
  {
   "cell_type": "code",
   "execution_count": 178,
   "metadata": {},
   "outputs": [
    {
     "name": "stdout",
     "output_type": "stream",
     "text": [
      "LogisticRegression 에서 학습 정확도 68.0 %\n",
      "KNeighborsClassifier 에서 학습 정확도 86.0 %\n",
      "DecisionTreeClassifier 에서 학습 정확도 90.0 %\n",
      "RandomForestClassifier 에서 학습 정확도 95.0 %\n",
      "GradientBoostingClassifier 에서 학습 정확도 91.0 %\n"
     ]
    }
   ],
   "source": [
    "# 모델 기본 파라미터로 학습\n",
    "classifiers = {\n",
    "    \"로지스틱회귀\": LogisticRegression(),\n",
    "    \"K최근접\": KNeighborsClassifier(),\n",
    "    \"결정트리\": DecisionTreeClassifier(),\n",
    "    \"랜덤포레스트\": RandomForestClassifier(),\n",
    "    \"그라디언트 부스팅\": GradientBoostingClassifier()\n",
    "}\n",
    "\n",
    "for _, classifier in classifiers.items():\n",
    "    classifier.fit(over_X_train, over_y_train)\n",
    "    training_score = cross_val_score(classifier, over_X_train, over_y_train, cv=5)\n",
    "    print(classifier.__class__.__name__, \"에서 학습 정확도\", round(training_score.mean(), 2) * 100, \"%\")"
   ]
  },
  {
   "cell_type": "code",
   "execution_count": 179,
   "metadata": {},
   "outputs": [
    {
     "name": "stdout",
     "output_type": "stream",
     "text": [
      "최고예측정확도: 67.83% 파라미터: {'C': 0.01, 'penalty': 'l2'}\n"
     ]
    }
   ],
   "source": [
    "# 로지스틱회귀 하이퍼파라미터 튜닝\n",
    "lr_params_over = {'penalty': ['l1', 'l2'], 'C': [0.001, 0.01, 0.1, 1, 10, 100, 1000]}\n",
    "\n",
    "lr_grid_over = GridSearchCV(LogisticRegression(), lr_params_over)\n",
    "lr_grid_over.fit(over_X_train, over_y_train)\n",
    "lr_best_over = lr_grid_over.best_estimator_\n",
    "\n",
    "print('최고예측정확도: {:.2f}%'.format(lr_grid_over.best_score_ * 100), '파라미터:', lr_grid_over.best_params_)"
   ]
  },
  {
   "cell_type": "code",
   "execution_count": 180,
   "metadata": {},
   "outputs": [
    {
     "name": "stdout",
     "output_type": "stream",
     "text": [
      "최고예측정확도: 92.03% 파라미터: {'algorithm': 'auto', 'n_neighbors': 2}\n"
     ]
    }
   ],
   "source": [
    "# K최근접 하이퍼파라미터 튜닝\n",
    "kn_params_over = {\"n_neighbors\": [2, 3, 4], 'algorithm': ['auto', 'ball_tree', 'kd_tree', 'brute']}\n",
    "\n",
    "kn_grid_over = GridSearchCV(KNeighborsClassifier(), kn_params_over)\n",
    "kn_grid_over.fit(over_X_train, over_y_train)\n",
    "kn_best_over = kn_grid_over.best_estimator_\n",
    "\n",
    "print('최고예측정확도: {:.2f}%'.format(kn_grid_over.best_score_ * 100), '파라미터:', kn_grid_over.best_params_)"
   ]
  },
  {
   "cell_type": "code",
   "execution_count": 181,
   "metadata": {},
   "outputs": [
    {
     "name": "stdout",
     "output_type": "stream",
     "text": [
      "최고예측정확도: 90.74% 파라미터: {'criterion': 'entropy', 'max_depth': None, 'min_samples_leaf': 1}\n"
     ]
    }
   ],
   "source": [
    "# 결정트리 하이퍼파라미터 튜닝\n",
    "dt_params_over = {\"criterion\": [\"gini\", \"entropy\"], \"max_depth\": [None], \"min_samples_leaf\": [1, 5, 6, 7, 8, 9]}\n",
    "\n",
    "dt_grid_over = GridSearchCV(DecisionTreeClassifier(), dt_params_over)\n",
    "dt_grid_over.fit(over_X_train, over_y_train)\n",
    "dt_best_over = dt_grid_over.best_estimator_\n",
    "\n",
    "print('최고예측정확도: {:.2f}%'.format(dt_grid_over.best_score_ * 100), '파라미터:', dt_grid_over.best_params_)"
   ]
  },
  {
   "cell_type": "code",
   "execution_count": 182,
   "metadata": {},
   "outputs": [
    {
     "name": "stdout",
     "output_type": "stream",
     "text": [
      "최고예측정확도: 95.05% 파라미터: {'max_depth': None, 'min_samples_leaf': 1, 'min_samples_split': 2, 'n_estimators': 100}\n"
     ]
    }
   ],
   "source": [
    "# 랜덤포레스트 하이퍼파라미터 튜닝\n",
    "rf_params_over = { 'n_estimators' : [100], 'max_depth' : [None], 'min_samples_leaf' : [1, 8, 12, 18, 20], 'min_samples_split' : [2, 6, 8, 16]}\n",
    "\n",
    "rf_grid_over = GridSearchCV(RandomForestClassifier(), rf_params_over)\n",
    "rf_grid_over.fit(over_X_train, over_y_train)\n",
    "rf_best_over = rf_grid_over.best_estimator_\n",
    "\n",
    "print('최고예측정확도: {:.2f}%'.format(rf_grid_over.best_score_ * 100), '파라미터:', rf_grid_over.best_params_)"
   ]
  },
  {
   "cell_type": "code",
   "execution_count": 183,
   "metadata": {},
   "outputs": [
    {
     "name": "stdout",
     "output_type": "stream",
     "text": [
      "최고예측정확도: 94.23% 파라미터: {'max_depth': 15, 'min_samples_split': 200}\n"
     ]
    }
   ],
   "source": [
    "# 그라디언트부스팅 하이퍼파라미터 튜닝\n",
    "gb_params_over = {'max_depth':range(5,16,2), 'min_samples_split':range(200,1001,200)}\n",
    "\n",
    "gb_grid_over = GridSearchCV(GradientBoostingClassifier(learning_rate=0.1, n_estimators=60, max_features='sqrt', subsample=0.8, random_state=10), gb_params_over)\n",
    "gb_grid_over.fit(over_X_train, over_y_train)\n",
    "gb_best_over = gb_grid_over.best_estimator_\n",
    "\n",
    "print('최고예측정확도: {:.2f}%'.format(gb_grid_over.best_score_ * 100), '파라미터:', gb_grid_over.best_params_)"
   ]
  },
  {
   "cell_type": "code",
   "execution_count": 184,
   "metadata": {},
   "outputs": [
    {
     "name": "stdout",
     "output_type": "stream",
     "text": [
      "로지스틱 회귀 F1 스코어: 65.80%\n",
      "K최근접 F1 스코어: 92.34%\n",
      "결정트리 F1 스코어: 90.18%\n",
      "랜덤포레스트 F1 스코어: 94.48%\n",
      "그라디언트 부스팅 F1 스코어: 93.29%\n"
     ]
    }
   ],
   "source": [
    "# 모델 알고리즘 f1 스코어 cross validation\n",
    "lr_score_f1_over = cross_val_score(lr_best_over, over_X_train, over_y_train, scoring='f1', cv=5).mean()\n",
    "kn_score_f1_over = cross_val_score(kn_best_over, over_X_train, over_y_train, scoring='f1', cv=5).mean()\n",
    "dt_score_f1_over = cross_val_score(dt_best_over, over_X_train, over_y_train, scoring='f1', cv=5).mean()\n",
    "rf_score_f1_over = cross_val_score(rf_best_over, over_X_train, over_y_train, scoring='f1', cv=5).mean()\n",
    "gb_score_f1_over = cross_val_score(gb_best_over, over_X_train, over_y_train, scoring='f1', cv=5).mean()\n",
    "\n",
    "print('로지스틱 회귀 F1 스코어: {:.2f}%'.format(lr_score_f1_over * 100))\n",
    "print('K최근접 F1 스코어: {:.2f}%'.format(kn_score_f1_over * 100))\n",
    "print('결정트리 F1 스코어: {:.2f}%'.format(dt_score_f1_over * 100))\n",
    "print('랜덤포레스트 F1 스코어: {:.2f}%'.format(rf_score_f1_over * 100))\n",
    "print('그라디언트 부스팅 F1 스코어: {:.2f}%'.format(gb_score_f1_over * 100))"
   ]
  },
  {
   "cell_type": "code",
   "execution_count": 185,
   "metadata": {},
   "outputs": [
    {
     "name": "stdout",
     "output_type": "stream",
     "text": [
      "로지스틱 회귀 ROC AUC 스코어: 0.73855\n",
      "K최근접 ROC AUC 스코어: 0.92029\n",
      "결정트리 ROC AUC 스코어: 0.90846\n",
      "랜덤포레스트 ROC AUC 스코어: 0.95025\n",
      "그라디언트 부스팅 ROC AUC 스코어: 0.94233\n"
     ]
    }
   ],
   "source": [
    "# 모델 알고리즘 ROC AUC 스코어 cross validation\n",
    "lr_pred_over = cross_val_predict(lr_best_over, over_X_train, over_y_train, cv=5, method=\"decision_function\")\n",
    "kn_pred_over = cross_val_predict(kn_best_over, over_X_train, over_y_train, cv=5)\n",
    "dt_pred_over = cross_val_predict(dt_best_over, over_X_train, over_y_train, cv=5)\n",
    "rf_pred_over = cross_val_predict(rf_best_over, over_X_train, over_y_train, cv=5)\n",
    "gb_pred_over = cross_val_predict(gb_best_over, over_X_train, over_y_train, cv=5)\n",
    "\n",
    "\n",
    "lr_score_auc_over = roc_auc_score(over_y_train, lr_pred_over)\n",
    "kn_score_auc_over = roc_auc_score(over_y_train, kn_pred_over)\n",
    "dt_score_auc_over = roc_auc_score(over_y_train, dt_pred_over)\n",
    "rf_score_auc_over = roc_auc_score(over_y_train, rf_pred_over)\n",
    "gb_score_auc_over = roc_auc_score(over_y_train, gb_pred_over)\n",
    "\n",
    "print('로지스틱 회귀 ROC AUC 스코어: {:.5f}'.format(lr_score_auc_over))\n",
    "print('K최근접 ROC AUC 스코어: {:.5f}'.format(kn_score_auc_over))\n",
    "print('결정트리 ROC AUC 스코어: {:.5f}'.format(dt_score_auc_over))\n",
    "print('랜덤포레스트 ROC AUC 스코어: {:.5f}'.format(rf_score_auc_over))\n",
    "print('그라디언트 부스팅 ROC AUC 스코어: {:.5f}'.format(gb_score_auc_over))"
   ]
  },
  {
   "cell_type": "code",
   "execution_count": 186,
   "metadata": {},
   "outputs": [
    {
     "name": "stdout",
     "output_type": "stream",
     "text": [
      "테스트 로지스틱 회귀 정확도: 70.98%\n",
      "테스트 K최근접 정확도: 84.13%\n",
      "테스트 결정트리 정확도: 83.57%\n",
      "테스트 랜덤포레스트 정확도: 90.42%\n",
      "테스트 그라디언트 부스팅 정확도: 89.97%\n"
     ]
    }
   ],
   "source": [
    "# 테스트 정확도\n",
    "lr_test_pred_over = lr_best_over.predict(X_test)\n",
    "kn_test_pred_over = kn_best_over.predict(X_test)\n",
    "dt_test_pred_over = dt_best_over.predict(X_test)\n",
    "rf_test_pred_over = rf_best_over.predict(X_test)\n",
    "gb_test_pred_over = gb_best_over.predict(X_test)\n",
    "\n",
    "lr_score_acc_over = accuracy_score(y_test, lr_test_pred_over)\n",
    "kn_score_acc_over = accuracy_score(y_test, kn_test_pred_over)\n",
    "dt_score_acc_over = accuracy_score(y_test, dt_test_pred_over)\n",
    "rf_score_acc_over = accuracy_score(y_test, rf_test_pred_over)\n",
    "gb_score_acc_over = accuracy_score(y_test, gb_test_pred_over)\n",
    "\n",
    "print('테스트 로지스틱 회귀 정확도: {:.2f}%'.format(lr_score_acc_over * 100))\n",
    "print('테스트 K최근접 정확도: {:.2f}%'.format(kn_score_acc_over * 100))\n",
    "print('테스트 결정트리 정확도: {:.2f}%'.format(dt_score_acc_over * 100))\n",
    "print('테스트 랜덤포레스트 정확도: {:.2f}%'.format(rf_score_acc_over * 100))\n",
    "print('테스트 그라디언트 부스팅 정확도: {:.2f}%'.format(gb_score_acc_over * 100))"
   ]
  },
  {
   "attachments": {},
   "cell_type": "markdown",
   "metadata": {},
   "source": [
    "SMOTE oversampling의 경우 랜덤포레스트 모델이 가장 좋은 성능"
   ]
  },
  {
   "cell_type": "code",
   "execution_count": 187,
   "metadata": {},
   "outputs": [
    {
     "data": {
      "text/html": [
       "<div>\n",
       "<style scoped>\n",
       "    .dataframe tbody tr th:only-of-type {\n",
       "        vertical-align: middle;\n",
       "    }\n",
       "\n",
       "    .dataframe tbody tr th {\n",
       "        vertical-align: top;\n",
       "    }\n",
       "\n",
       "    .dataframe thead th {\n",
       "        text-align: right;\n",
       "    }\n",
       "</style>\n",
       "<table border=\"1\" class=\"dataframe\">\n",
       "  <thead>\n",
       "    <tr style=\"text-align: right;\">\n",
       "      <th></th>\n",
       "      <th>sampling_method</th>\n",
       "      <th>train_f1_score</th>\n",
       "      <th>train_auc_score</th>\n",
       "      <th>test_accuracy</th>\n",
       "    </tr>\n",
       "  </thead>\n",
       "  <tbody>\n",
       "    <tr>\n",
       "      <th>0</th>\n",
       "      <td>Random Undersampling</td>\n",
       "      <td>0.684155</td>\n",
       "      <td>0.666705</td>\n",
       "      <td>0.680484</td>\n",
       "    </tr>\n",
       "    <tr>\n",
       "      <th>1</th>\n",
       "      <td>SMOTE Oversampling</td>\n",
       "      <td>0.944811</td>\n",
       "      <td>0.950250</td>\n",
       "      <td>0.904205</td>\n",
       "    </tr>\n",
       "  </tbody>\n",
       "</table>\n",
       "</div>"
      ],
      "text/plain": [
       "        sampling_method  train_f1_score  train_auc_score  test_accuracy\n",
       "0  Random Undersampling        0.684155         0.666705       0.680484\n",
       "1    SMOTE Oversampling        0.944811         0.950250       0.904205"
      ]
     },
     "execution_count": 187,
     "metadata": {},
     "output_type": "execute_result"
    }
   ],
   "source": [
    "# 각 샘플링별 랜덤포레스트 결과 종합\n",
    "results = [\n",
    "    ['Random Undersampling', rf_score_f1_under, rf_score_auc_under, rf_score_acc_under],\n",
    "    ['SMOTE Oversampling', rf_score_f1_over, rf_score_auc_over, rf_score_acc_over]\n",
    "]\n",
    "\n",
    "pd.DataFrame(results, columns=['sampling_method', 'train_f1_score', 'train_auc_score', 'test_accuracy'])"
   ]
  },
  {
   "cell_type": "code",
   "execution_count": 188,
   "metadata": {},
   "outputs": [
    {
     "data": {
      "text/html": [
       "<div>\n",
       "<style scoped>\n",
       "    .dataframe tbody tr th:only-of-type {\n",
       "        vertical-align: middle;\n",
       "    }\n",
       "\n",
       "    .dataframe tbody tr th {\n",
       "        vertical-align: top;\n",
       "    }\n",
       "\n",
       "    .dataframe thead th {\n",
       "        text-align: right;\n",
       "    }\n",
       "</style>\n",
       "<table border=\"1\" class=\"dataframe\">\n",
       "  <thead>\n",
       "    <tr style=\"text-align: right;\">\n",
       "      <th></th>\n",
       "      <th>sampling_method</th>\n",
       "      <th>train_f1_score</th>\n",
       "      <th>train_auc_score</th>\n",
       "      <th>test_accuracy</th>\n",
       "    </tr>\n",
       "  </thead>\n",
       "  <tbody>\n",
       "    <tr>\n",
       "      <th>0</th>\n",
       "      <td>Random Undersampling</td>\n",
       "      <td>0.688718</td>\n",
       "      <td>0.676644</td>\n",
       "      <td>0.689119</td>\n",
       "    </tr>\n",
       "    <tr>\n",
       "      <th>1</th>\n",
       "      <td>SMOTE Oversampling</td>\n",
       "      <td>0.932913</td>\n",
       "      <td>0.942325</td>\n",
       "      <td>0.899749</td>\n",
       "    </tr>\n",
       "  </tbody>\n",
       "</table>\n",
       "</div>"
      ],
      "text/plain": [
       "        sampling_method  train_f1_score  train_auc_score  test_accuracy\n",
       "0  Random Undersampling        0.688718         0.676644       0.689119\n",
       "1    SMOTE Oversampling        0.932913         0.942325       0.899749"
      ]
     },
     "execution_count": 188,
     "metadata": {},
     "output_type": "execute_result"
    }
   ],
   "source": [
    "# 각 샘플링별 그라디언트 부스팅 결과 종합\n",
    "results = [\n",
    "    ['Random Undersampling', gb_score_f1_under, gb_score_auc_under, gb_score_acc_under],\n",
    "    ['SMOTE Oversampling', gb_score_f1_over, gb_score_auc_over, gb_score_acc_over]\n",
    "]\n",
    "\n",
    "pd.DataFrame(results, columns=['sampling_method', 'train_f1_score', 'train_auc_score', 'test_accuracy'])"
   ]
  },
  {
   "cell_type": "code",
   "execution_count": 189,
   "metadata": {},
   "outputs": [
    {
     "data": {
      "text/plain": [
       "['gb_model_over.pkl']"
      ]
     },
     "execution_count": 189,
     "metadata": {},
     "output_type": "execute_result"
    }
   ],
   "source": [
    "# 학습된 SMOTE oversampling의 랜덤포레스트 및 그라디언트 부스팅 모델 저장\n",
    "import joblib \n",
    "\n",
    "joblib.dump(rf_best_over, 'rf_model_over.pkl')\n",
    "joblib.dump(gb_best_over, 'gb_model_over.pkl')"
   ]
  }
 ],
 "metadata": {
  "kernelspec": {
   "display_name": "base",
   "language": "python",
   "name": "python3"
  },
  "language_info": {
   "codemirror_mode": {
    "name": "ipython",
    "version": 3
   },
   "file_extension": ".py",
   "mimetype": "text/x-python",
   "name": "python",
   "nbconvert_exporter": "python",
   "pygments_lexer": "ipython3",
   "version": "3.9.13"
  },
  "orig_nbformat": 4
 },
 "nbformat": 4,
 "nbformat_minor": 2
}
