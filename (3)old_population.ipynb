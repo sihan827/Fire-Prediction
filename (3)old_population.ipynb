{
 "cells": [
  {
   "cell_type": "code",
   "execution_count": 1,
   "metadata": {},
   "outputs": [],
   "source": [
    "import pandas as pd\n",
    "import numpy as np\n",
    "import requests \n",
    "import json\n",
    "import re"
   ]
  },
  {
   "cell_type": "code",
   "execution_count": 2,
   "metadata": {},
   "outputs": [],
   "source": [
    "df = pd.read_csv('./data/old_population.csv')"
   ]
  },
  {
   "cell_type": "code",
   "execution_count": 3,
   "metadata": {},
   "outputs": [
    {
     "data": {
      "text/html": [
       "<div>\n",
       "<style scoped>\n",
       "    .dataframe tbody tr th:only-of-type {\n",
       "        vertical-align: middle;\n",
       "    }\n",
       "\n",
       "    .dataframe tbody tr th {\n",
       "        vertical-align: top;\n",
       "    }\n",
       "\n",
       "    .dataframe thead th {\n",
       "        text-align: right;\n",
       "    }\n",
       "</style>\n",
       "<table border=\"1\" class=\"dataframe\">\n",
       "  <thead>\n",
       "    <tr style=\"text-align: right;\">\n",
       "      <th></th>\n",
       "      <th>주소</th>\n",
       "    </tr>\n",
       "  </thead>\n",
       "  <tbody>\n",
       "    <tr>\n",
       "      <th>0</th>\n",
       "      <td>부여군 구룡면 구봉1리</td>\n",
       "    </tr>\n",
       "    <tr>\n",
       "      <th>1</th>\n",
       "      <td>부여군 구룡면 구봉2리</td>\n",
       "    </tr>\n",
       "    <tr>\n",
       "      <th>2</th>\n",
       "      <td>부여군 구룡면 구봉3리</td>\n",
       "    </tr>\n",
       "    <tr>\n",
       "      <th>3</th>\n",
       "      <td>부여군 구룡면 죽절리</td>\n",
       "    </tr>\n",
       "    <tr>\n",
       "      <th>4</th>\n",
       "      <td>부여군 구룡면 주정1리</td>\n",
       "    </tr>\n",
       "  </tbody>\n",
       "</table>\n",
       "</div>"
      ],
      "text/plain": [
       "             주소\n",
       "0  부여군 구룡면 구봉1리\n",
       "1  부여군 구룡면 구봉2리\n",
       "2  부여군 구룡면 구봉3리\n",
       "3   부여군 구룡면 죽절리\n",
       "4  부여군 구룡면 주정1리"
      ]
     },
     "execution_count": 3,
     "metadata": {},
     "output_type": "execute_result"
    }
   ],
   "source": [
    "# 주소=군+읍/면+리 병합\n",
    "df = df.loc[:, ['연도', '읍/면', '리', '전체인구수', '60세이상노인인구수']]\n",
    "df['주소'] = '부여군 ' + df['읍/면'] + ' ' + df['리']\n",
    "df_addr = df[['주소']]\n",
    "df_addr.head()"
   ]
  },
  {
   "cell_type": "code",
   "execution_count": 4,
   "metadata": {},
   "outputs": [
    {
     "data": {
      "text/plain": [
       "{'Authorization': 'KakaoAK c8d2487b6ee1ee531c4b6899126efe7f'}"
      ]
     },
     "execution_count": 4,
     "metadata": {},
     "output_type": "execute_result"
    }
   ],
   "source": [
    "# 카카오맵 API\n",
    "API_KEY = 'c8d2487b6ee1ee531c4b6899126efe7f'\n",
    "headers = {'Authorization' : 'KakaoAK '+API_KEY}\n",
    "headers"
   ]
  },
  {
   "cell_type": "code",
   "execution_count": 5,
   "metadata": {},
   "outputs": [],
   "source": [
    "# 위도 및 경도를 가져오는 함수\n",
    "def getLat(addr):\n",
    "    url = 'https://dapi.kakao.com/v2/local/search/address.json?query=' + addr\n",
    "    result = json.loads(str(requests.get(url, headers=headers).text))\n",
    "    if len(result['documents']) == 0:\n",
    "        new_addr = re.sub(r'[0-9]+', '', addr)\n",
    "        url = 'https://dapi.kakao.com/v2/local/search/address.json?query=' + new_addr\n",
    "        result = json.loads(str(requests.get(url, headers=headers).text))\n",
    "\n",
    "    match_first = result['documents'][0]['address']\n",
    "\n",
    "    return float(match_first['y'])\n",
    "\n",
    "def getLng(addr):\n",
    "    url = 'https://dapi.kakao.com/v2/local/search/address.json?query=' + addr\n",
    "    result = json.loads(str(requests.get(url, headers=headers).text))\n",
    "    if len(result['documents']) == 0:\n",
    "        new_addr = re.sub(r'[0-9]+', '', addr)\n",
    "        url = 'https://dapi.kakao.com/v2/local/search/address.json?query=' + new_addr\n",
    "        result = json.loads(str(requests.get(url, headers=headers).text))\n",
    "        \n",
    "    match_first = result['documents'][0]['address']\n",
    "    return float(match_first['x'])"
   ]
  },
  {
   "cell_type": "code",
   "execution_count": 34,
   "metadata": {},
   "outputs": [
    {
     "name": "stdout",
     "output_type": "stream",
     "text": [
      "0 번째 주소에 대한 좌표정보 불러오는 중...\n",
      "100 번째 주소에 대한 좌표정보 불러오는 중...\n",
      "200 번째 주소에 대한 좌표정보 불러오는 중...\n",
      "300 번째 주소에 대한 좌표정보 불러오는 중...\n",
      "400 번째 주소에 대한 좌표정보 불러오는 중...\n",
      "500 번째 주소에 대한 좌표정보 불러오는 중...\n",
      "600 번째 주소에 대한 좌표정보 불러오는 중...\n",
      "700 번째 주소에 대한 좌표정보 불러오는 중...\n",
      "800 번째 주소에 대한 좌표정보 불러오는 중...\n",
      "error 817\n",
      "900 번째 주소에 대한 좌표정보 불러오는 중...\n",
      "1000 번째 주소에 대한 좌표정보 불러오는 중...\n",
      "1100 번째 주소에 대한 좌표정보 불러오는 중...\n",
      "1200 번째 주소에 대한 좌표정보 불러오는 중...\n",
      "1300 번째 주소에 대한 좌표정보 불러오는 중...\n",
      "error 1356\n",
      "1400 번째 주소에 대한 좌표정보 불러오는 중...\n",
      "1500 번째 주소에 대한 좌표정보 불러오는 중...\n",
      "1600 번째 주소에 대한 좌표정보 불러오는 중...\n",
      "1700 번째 주소에 대한 좌표정보 불러오는 중...\n",
      "1800 번째 주소에 대한 좌표정보 불러오는 중...\n",
      "1900 번째 주소에 대한 좌표정보 불러오는 중...\n",
      "2000 번째 주소에 대한 좌표정보 불러오는 중...\n",
      "2100 번째 주소에 대한 좌표정보 불러오는 중...\n",
      "2200 번째 주소에 대한 좌표정보 불러오는 중...\n",
      "2300 번째 주소에 대한 좌표정보 불러오는 중...\n",
      "2400 번째 주소에 대한 좌표정보 불러오는 중...\n",
      "2500 번째 주소에 대한 좌표정보 불러오는 중...\n",
      "2600 번째 주소에 대한 좌표정보 불러오는 중...\n",
      "2700 번째 주소에 대한 좌표정보 불러오는 중...\n",
      "2800 번째 주소에 대한 좌표정보 불러오는 중...\n",
      "2900 번째 주소에 대한 좌표정보 불러오는 중...\n",
      "3000 번째 주소에 대한 좌표정보 불러오는 중...\n",
      "3100 번째 주소에 대한 좌표정보 불러오는 중...\n",
      "3200 번째 주소에 대한 좌표정보 불러오는 중...\n",
      "3300 번째 주소에 대한 좌표정보 불러오는 중...\n",
      "3400 번째 주소에 대한 좌표정보 불러오는 중...\n",
      "3500 번째 주소에 대한 좌표정보 불러오는 중...\n",
      "3600 번째 주소에 대한 좌표정보 불러오는 중...\n",
      "3700 번째 주소에 대한 좌표정보 불러오는 중...\n",
      "3800 번째 주소에 대한 좌표정보 불러오는 중...\n",
      "3900 번째 주소에 대한 좌표정보 불러오는 중...\n",
      "4000 번째 주소에 대한 좌표정보 불러오는 중...\n",
      "4100 번째 주소에 대한 좌표정보 불러오는 중...\n",
      "4200 번째 주소에 대한 좌표정보 불러오는 중...\n",
      "4300 번째 주소에 대한 좌표정보 불러오는 중...\n",
      "4400 번째 주소에 대한 좌표정보 불러오는 중...\n",
      "4500 번째 주소에 대한 좌표정보 불러오는 중...\n",
      "4600 번째 주소에 대한 좌표정보 불러오는 중...\n",
      "4700 번째 주소에 대한 좌표정보 불러오는 중...\n"
     ]
    }
   ],
   "source": [
    "# 주소를 위도 경도로 변환\n",
    "for i in range(len(df)):\n",
    "    try:\n",
    "        lng = getLng(df_addr['주소'][i])\n",
    "        lat = getLat(df_addr['주소'][i])\n",
    "        df_addr.loc[i,['경도']] = lng\n",
    "        df_addr.loc[i,['위도']] = lat\n",
    "\n",
    "    except:\n",
    "        print('error',i)\n",
    "        \n",
    "    \n",
    "    if i%100 == 0:\n",
    "        print('{} 번째 주소에 대한 좌표정보 불러오는 중...'.format(i)) "
   ]
  },
  {
   "cell_type": "code",
   "execution_count": 41,
   "metadata": {},
   "outputs": [
    {
     "data": {
      "text/plain": [
       "주소    부여군 부여읍 가증1리\n",
       "경도      126.946247\n",
       "위도       36.302555\n",
       "Name: 1356, dtype: object"
      ]
     },
     "execution_count": 41,
     "metadata": {},
     "output_type": "execute_result"
    }
   ],
   "source": [
    "# 에러난 주소 체크\n",
    "df_addr.iloc[1356]"
   ]
  },
  {
   "cell_type": "code",
   "execution_count": 40,
   "metadata": {},
   "outputs": [],
   "source": [
    "# 주소 수정 후 재검색\n",
    "lng = getLng('부여군 부여읍 가증리')\n",
    "lat = getLat('부여군 부여읍 가증리')\n",
    "df_addr.loc[1356,['경도']] = lng\n",
    "df_addr.loc[1356,['위도']] = lat"
   ]
  },
  {
   "cell_type": "code",
   "execution_count": 42,
   "metadata": {},
   "outputs": [],
   "source": [
    "# 계산된 경도 위도 저장\n",
    "df['경도'] = df_addr['경도']\n",
    "df['위도'] = df_addr['위도']"
   ]
  },
  {
   "cell_type": "code",
   "execution_count": 51,
   "metadata": {},
   "outputs": [
    {
     "data": {
      "text/html": [
       "<div>\n",
       "<style scoped>\n",
       "    .dataframe tbody tr th:only-of-type {\n",
       "        vertical-align: middle;\n",
       "    }\n",
       "\n",
       "    .dataframe tbody tr th {\n",
       "        vertical-align: top;\n",
       "    }\n",
       "\n",
       "    .dataframe thead th {\n",
       "        text-align: right;\n",
       "    }\n",
       "</style>\n",
       "<table border=\"1\" class=\"dataframe\">\n",
       "  <thead>\n",
       "    <tr style=\"text-align: right;\">\n",
       "      <th></th>\n",
       "      <th>연도</th>\n",
       "      <th>읍/면</th>\n",
       "      <th>리</th>\n",
       "      <th>전체인구수</th>\n",
       "      <th>60세이상노인인구수</th>\n",
       "      <th>주소</th>\n",
       "      <th>경도</th>\n",
       "      <th>위도</th>\n",
       "    </tr>\n",
       "  </thead>\n",
       "  <tbody>\n",
       "    <tr>\n",
       "      <th>0</th>\n",
       "      <td>2022</td>\n",
       "      <td>구룡면</td>\n",
       "      <td>구봉1리</td>\n",
       "      <td>110</td>\n",
       "      <td>65</td>\n",
       "      <td>부여군 구룡면 구봉1리</td>\n",
       "      <td>126.839518</td>\n",
       "      <td>36.261862</td>\n",
       "    </tr>\n",
       "    <tr>\n",
       "      <th>1</th>\n",
       "      <td>2022</td>\n",
       "      <td>구룡면</td>\n",
       "      <td>구봉2리</td>\n",
       "      <td>49</td>\n",
       "      <td>26</td>\n",
       "      <td>부여군 구룡면 구봉2리</td>\n",
       "      <td>126.839508</td>\n",
       "      <td>36.261593</td>\n",
       "    </tr>\n",
       "    <tr>\n",
       "      <th>2</th>\n",
       "      <td>2022</td>\n",
       "      <td>구룡면</td>\n",
       "      <td>구봉3리</td>\n",
       "      <td>52</td>\n",
       "      <td>33</td>\n",
       "      <td>부여군 구룡면 구봉3리</td>\n",
       "      <td>126.839729</td>\n",
       "      <td>36.261491</td>\n",
       "    </tr>\n",
       "    <tr>\n",
       "      <th>3</th>\n",
       "      <td>2022</td>\n",
       "      <td>구룡면</td>\n",
       "      <td>죽절리</td>\n",
       "      <td>186</td>\n",
       "      <td>101</td>\n",
       "      <td>부여군 구룡면 죽절리</td>\n",
       "      <td>126.820220</td>\n",
       "      <td>36.265256</td>\n",
       "    </tr>\n",
       "    <tr>\n",
       "      <th>4</th>\n",
       "      <td>2022</td>\n",
       "      <td>구룡면</td>\n",
       "      <td>주정1리</td>\n",
       "      <td>89</td>\n",
       "      <td>49</td>\n",
       "      <td>부여군 구룡면 주정1리</td>\n",
       "      <td>126.821951</td>\n",
       "      <td>36.253615</td>\n",
       "    </tr>\n",
       "  </tbody>\n",
       "</table>\n",
       "</div>"
      ],
      "text/plain": [
       "     연도  읍/면     리  전체인구수  60세이상노인인구수            주소          경도         위도\n",
       "0  2022  구룡면  구봉1리    110          65  부여군 구룡면 구봉1리  126.839518  36.261862\n",
       "1  2022  구룡면  구봉2리     49          26  부여군 구룡면 구봉2리  126.839508  36.261593\n",
       "2  2022  구룡면  구봉3리     52          33  부여군 구룡면 구봉3리  126.839729  36.261491\n",
       "3  2022  구룡면   죽절리    186         101   부여군 구룡면 죽절리  126.820220  36.265256\n",
       "4  2022  구룡면  주정1리     89          49  부여군 구룡면 주정1리  126.821951  36.253615"
      ]
     },
     "execution_count": 51,
     "metadata": {},
     "output_type": "execute_result"
    }
   ],
   "source": [
    "df.head()"
   ]
  },
  {
   "cell_type": "code",
   "execution_count": 53,
   "metadata": {},
   "outputs": [],
   "source": [
    "# 전체인구수 대비 노인인구수 계산\n",
    "df['60세이상노인비율'] = df['60세이상노인인구수'] / df['전체인구수']"
   ]
  },
  {
   "cell_type": "code",
   "execution_count": 155,
   "metadata": {},
   "outputs": [
    {
     "data": {
      "text/html": [
       "<div>\n",
       "<style scoped>\n",
       "    .dataframe tbody tr th:only-of-type {\n",
       "        vertical-align: middle;\n",
       "    }\n",
       "\n",
       "    .dataframe tbody tr th {\n",
       "        vertical-align: top;\n",
       "    }\n",
       "\n",
       "    .dataframe thead th {\n",
       "        text-align: right;\n",
       "    }\n",
       "</style>\n",
       "<table border=\"1\" class=\"dataframe\">\n",
       "  <thead>\n",
       "    <tr style=\"text-align: right;\">\n",
       "      <th></th>\n",
       "      <th>연도</th>\n",
       "      <th>경도</th>\n",
       "      <th>위도</th>\n",
       "      <th>60세이상노인비율</th>\n",
       "      <th>전체인구수</th>\n",
       "      <th>60세이상노인인구수</th>\n",
       "    </tr>\n",
       "  </thead>\n",
       "  <tbody>\n",
       "    <tr>\n",
       "      <th>0</th>\n",
       "      <td>2022</td>\n",
       "      <td>126.839518</td>\n",
       "      <td>36.261862</td>\n",
       "      <td>0.590909</td>\n",
       "      <td>110</td>\n",
       "      <td>65</td>\n",
       "    </tr>\n",
       "    <tr>\n",
       "      <th>1</th>\n",
       "      <td>2022</td>\n",
       "      <td>126.839507</td>\n",
       "      <td>36.261593</td>\n",
       "      <td>0.530612</td>\n",
       "      <td>49</td>\n",
       "      <td>26</td>\n",
       "    </tr>\n",
       "    <tr>\n",
       "      <th>2</th>\n",
       "      <td>2022</td>\n",
       "      <td>126.839729</td>\n",
       "      <td>36.261491</td>\n",
       "      <td>0.634615</td>\n",
       "      <td>52</td>\n",
       "      <td>33</td>\n",
       "    </tr>\n",
       "    <tr>\n",
       "      <th>3</th>\n",
       "      <td>2022</td>\n",
       "      <td>126.820220</td>\n",
       "      <td>36.265256</td>\n",
       "      <td>0.543011</td>\n",
       "      <td>186</td>\n",
       "      <td>101</td>\n",
       "    </tr>\n",
       "    <tr>\n",
       "      <th>4</th>\n",
       "      <td>2022</td>\n",
       "      <td>126.821951</td>\n",
       "      <td>36.253615</td>\n",
       "      <td>0.550562</td>\n",
       "      <td>89</td>\n",
       "      <td>49</td>\n",
       "    </tr>\n",
       "  </tbody>\n",
       "</table>\n",
       "</div>"
      ],
      "text/plain": [
       "     연도          경도         위도  60세이상노인비율  전체인구수  60세이상노인인구수\n",
       "0  2022  126.839518  36.261862   0.590909    110          65\n",
       "1  2022  126.839507  36.261593   0.530612     49          26\n",
       "2  2022  126.839729  36.261491   0.634615     52          33\n",
       "3  2022  126.820220  36.265256   0.543011    186         101\n",
       "4  2022  126.821951  36.253615   0.550562     89          49"
      ]
     },
     "execution_count": 155,
     "metadata": {},
     "output_type": "execute_result"
    }
   ],
   "source": [
    "df.head()"
   ]
  },
  {
   "cell_type": "code",
   "execution_count": 156,
   "metadata": {},
   "outputs": [],
   "source": [
    "# 부여전체인구 대비 인구수 비율 계산\n",
    "# 부여전체노인인구 대비 노인인구수 비율 계산\n",
    "df['인구수비율'] = df['전체인구수'].div(df.groupby('연도')['전체인구수'].transform('sum'))\n",
    "df['60세이상노인인구수비율'] = df['60세이상노인인구수'].div(df.groupby('연도')['60세이상노인인구수'].transform('sum'))"
   ]
  },
  {
   "cell_type": "code",
   "execution_count": 157,
   "metadata": {},
   "outputs": [
    {
     "data": {
      "text/html": [
       "<div>\n",
       "<style scoped>\n",
       "    .dataframe tbody tr th:only-of-type {\n",
       "        vertical-align: middle;\n",
       "    }\n",
       "\n",
       "    .dataframe tbody tr th {\n",
       "        vertical-align: top;\n",
       "    }\n",
       "\n",
       "    .dataframe thead th {\n",
       "        text-align: right;\n",
       "    }\n",
       "</style>\n",
       "<table border=\"1\" class=\"dataframe\">\n",
       "  <thead>\n",
       "    <tr style=\"text-align: right;\">\n",
       "      <th></th>\n",
       "      <th>연도</th>\n",
       "      <th>경도</th>\n",
       "      <th>위도</th>\n",
       "      <th>60세이상노인비율</th>\n",
       "      <th>전체인구수</th>\n",
       "      <th>60세이상노인인구수</th>\n",
       "      <th>인구수비율</th>\n",
       "      <th>60세이상노인인구수비율</th>\n",
       "    </tr>\n",
       "  </thead>\n",
       "  <tbody>\n",
       "    <tr>\n",
       "      <th>0</th>\n",
       "      <td>2022</td>\n",
       "      <td>126.839518</td>\n",
       "      <td>36.261862</td>\n",
       "      <td>0.590909</td>\n",
       "      <td>110</td>\n",
       "      <td>65</td>\n",
       "      <td>0.001782</td>\n",
       "      <td>0.002111</td>\n",
       "    </tr>\n",
       "    <tr>\n",
       "      <th>1</th>\n",
       "      <td>2022</td>\n",
       "      <td>126.839507</td>\n",
       "      <td>36.261593</td>\n",
       "      <td>0.530612</td>\n",
       "      <td>49</td>\n",
       "      <td>26</td>\n",
       "      <td>0.000794</td>\n",
       "      <td>0.000844</td>\n",
       "    </tr>\n",
       "    <tr>\n",
       "      <th>2</th>\n",
       "      <td>2022</td>\n",
       "      <td>126.839729</td>\n",
       "      <td>36.261491</td>\n",
       "      <td>0.634615</td>\n",
       "      <td>52</td>\n",
       "      <td>33</td>\n",
       "      <td>0.000842</td>\n",
       "      <td>0.001072</td>\n",
       "    </tr>\n",
       "    <tr>\n",
       "      <th>3</th>\n",
       "      <td>2022</td>\n",
       "      <td>126.820220</td>\n",
       "      <td>36.265256</td>\n",
       "      <td>0.543011</td>\n",
       "      <td>186</td>\n",
       "      <td>101</td>\n",
       "      <td>0.003013</td>\n",
       "      <td>0.003280</td>\n",
       "    </tr>\n",
       "    <tr>\n",
       "      <th>4</th>\n",
       "      <td>2022</td>\n",
       "      <td>126.821951</td>\n",
       "      <td>36.253615</td>\n",
       "      <td>0.550562</td>\n",
       "      <td>89</td>\n",
       "      <td>49</td>\n",
       "      <td>0.001442</td>\n",
       "      <td>0.001591</td>\n",
       "    </tr>\n",
       "  </tbody>\n",
       "</table>\n",
       "</div>"
      ],
      "text/plain": [
       "     연도          경도         위도  60세이상노인비율  전체인구수  60세이상노인인구수     인구수비율  \\\n",
       "0  2022  126.839518  36.261862   0.590909    110          65  0.001782   \n",
       "1  2022  126.839507  36.261593   0.530612     49          26  0.000794   \n",
       "2  2022  126.839729  36.261491   0.634615     52          33  0.000842   \n",
       "3  2022  126.820220  36.265256   0.543011    186         101  0.003013   \n",
       "4  2022  126.821951  36.253615   0.550562     89          49  0.001442   \n",
       "\n",
       "   60세이상노인인구수비율  \n",
       "0      0.002111  \n",
       "1      0.000844  \n",
       "2      0.001072  \n",
       "3      0.003280  \n",
       "4      0.001591  "
      ]
     },
     "execution_count": 157,
     "metadata": {},
     "output_type": "execute_result"
    }
   ],
   "source": [
    "df.head()"
   ]
  },
  {
   "cell_type": "code",
   "execution_count": 158,
   "metadata": {},
   "outputs": [],
   "source": [
    "df = df.loc[:, ['연도', '경도', '위도', '인구수비율', '60세이상노인인구수비율']]"
   ]
  },
  {
   "cell_type": "code",
   "execution_count": 159,
   "metadata": {},
   "outputs": [],
   "source": [
    "# 부여 동서남북 가장 끝 좌표\n",
    "LOWER = 36.0721\n",
    "LEFT = 126.6796\n",
    "UPPER = 36.3865\n",
    "RIGHT = 127.07"
   ]
  },
  {
   "cell_type": "code",
   "execution_count": 160,
   "metadata": {},
   "outputs": [],
   "source": [
    "# 위도, 경도 15, 15 좌표계로 변환\n",
    "df['x'] = df['경도'].astype(float).map(lambda x: np.trunc((x - LEFT) / ((RIGHT - LEFT) / 15.)))\n",
    "df['y'] = df['위도'].astype(float).map(lambda x: np.trunc((x - LOWER) / ((UPPER - LOWER) / 15.)))"
   ]
  },
  {
   "cell_type": "code",
   "execution_count": 161,
   "metadata": {},
   "outputs": [
    {
     "data": {
      "text/html": [
       "<div>\n",
       "<style scoped>\n",
       "    .dataframe tbody tr th:only-of-type {\n",
       "        vertical-align: middle;\n",
       "    }\n",
       "\n",
       "    .dataframe tbody tr th {\n",
       "        vertical-align: top;\n",
       "    }\n",
       "\n",
       "    .dataframe thead th {\n",
       "        text-align: right;\n",
       "    }\n",
       "</style>\n",
       "<table border=\"1\" class=\"dataframe\">\n",
       "  <thead>\n",
       "    <tr style=\"text-align: right;\">\n",
       "      <th></th>\n",
       "      <th>연도</th>\n",
       "      <th>경도</th>\n",
       "      <th>위도</th>\n",
       "      <th>인구수비율</th>\n",
       "      <th>60세이상노인인구수비율</th>\n",
       "      <th>x</th>\n",
       "      <th>y</th>\n",
       "    </tr>\n",
       "  </thead>\n",
       "  <tbody>\n",
       "    <tr>\n",
       "      <th>0</th>\n",
       "      <td>2022</td>\n",
       "      <td>126.839518</td>\n",
       "      <td>36.261862</td>\n",
       "      <td>0.001782</td>\n",
       "      <td>0.002111</td>\n",
       "      <td>6.0</td>\n",
       "      <td>9.0</td>\n",
       "    </tr>\n",
       "    <tr>\n",
       "      <th>1</th>\n",
       "      <td>2022</td>\n",
       "      <td>126.839507</td>\n",
       "      <td>36.261593</td>\n",
       "      <td>0.000794</td>\n",
       "      <td>0.000844</td>\n",
       "      <td>6.0</td>\n",
       "      <td>9.0</td>\n",
       "    </tr>\n",
       "    <tr>\n",
       "      <th>2</th>\n",
       "      <td>2022</td>\n",
       "      <td>126.839729</td>\n",
       "      <td>36.261491</td>\n",
       "      <td>0.000842</td>\n",
       "      <td>0.001072</td>\n",
       "      <td>6.0</td>\n",
       "      <td>9.0</td>\n",
       "    </tr>\n",
       "    <tr>\n",
       "      <th>3</th>\n",
       "      <td>2022</td>\n",
       "      <td>126.820220</td>\n",
       "      <td>36.265256</td>\n",
       "      <td>0.003013</td>\n",
       "      <td>0.003280</td>\n",
       "      <td>5.0</td>\n",
       "      <td>9.0</td>\n",
       "    </tr>\n",
       "    <tr>\n",
       "      <th>4</th>\n",
       "      <td>2022</td>\n",
       "      <td>126.821951</td>\n",
       "      <td>36.253615</td>\n",
       "      <td>0.001442</td>\n",
       "      <td>0.001591</td>\n",
       "      <td>5.0</td>\n",
       "      <td>8.0</td>\n",
       "    </tr>\n",
       "  </tbody>\n",
       "</table>\n",
       "</div>"
      ],
      "text/plain": [
       "     연도          경도         위도     인구수비율  60세이상노인인구수비율    x    y\n",
       "0  2022  126.839518  36.261862  0.001782      0.002111  6.0  9.0\n",
       "1  2022  126.839507  36.261593  0.000794      0.000844  6.0  9.0\n",
       "2  2022  126.839729  36.261491  0.000842      0.001072  6.0  9.0\n",
       "3  2022  126.820220  36.265256  0.003013      0.003280  5.0  9.0\n",
       "4  2022  126.821951  36.253615  0.001442      0.001591  5.0  8.0"
      ]
     },
     "execution_count": 161,
     "metadata": {},
     "output_type": "execute_result"
    }
   ],
   "source": [
    "df.head()"
   ]
  },
  {
   "cell_type": "code",
   "execution_count": 162,
   "metadata": {},
   "outputs": [],
   "source": [
    "# 필요한 컬럼 선별\n",
    "df = df.loc[:, ['연도', 'x', 'y', '인구수비율', '60세이상노인인구수비율']]"
   ]
  },
  {
   "cell_type": "code",
   "execution_count": 164,
   "metadata": {},
   "outputs": [],
   "source": [
    "# 좌표별 인구수 비율 합과 노인인구비율 평균 계산\n",
    "pop_rate = df.loc[:, ['연도', 'x', 'y', '인구수비율']].groupby(['연도', 'x', 'y']).sum()\n",
    "old_pop_rate = df.loc[:, ['연도', 'x', 'y', '60세이상노인인구수비율']].groupby(['연도', 'x', 'y']).sum()\n",
    "df_preprocessed = pop_rate.join(old_pop_rate)"
   ]
  },
  {
   "cell_type": "code",
   "execution_count": 165,
   "metadata": {},
   "outputs": [],
   "source": [
    "df = df_preprocessed.reset_index()"
   ]
  },
  {
   "cell_type": "code",
   "execution_count": 137,
   "metadata": {},
   "outputs": [],
   "source": [
    "import matplotlib.pyplot as plt\n",
    "import matplotlib as mpl\n",
    "import seaborn as sns"
   ]
  },
  {
   "cell_type": "code",
   "execution_count": 153,
   "metadata": {},
   "outputs": [
    {
     "data": {
      "image/png": "[encoded data removed]",
      "text/plain": [
       "<Figure size 640x480 with 2 Axes>"
      ]
     },
     "metadata": {},
     "output_type": "display_data"
    }
   ],
   "source": [
    "# 좌표별 인구수비율 그래프 표시\n",
    "pop_rate_heatmap = df[df['연도'] == 2015].pivot('y', 'x', '인구수비율').sort_index(ascending=False).fillna(0)\n",
    "ax = sns.heatmap(pop_rate_heatmap, cmap='Blues')\n",
    "plt.title('Population heatmap on Buyeo in 2022', fontsize=20)\n",
    "plt.show()"
   ]
  },
  {
   "cell_type": "code",
   "execution_count": 167,
   "metadata": {},
   "outputs": [
    {
     "data": {
      "image/png": "[encoded data removed]",
      "text/plain": [
       "<Figure size 640x480 with 2 Axes>"
      ]
     },
     "metadata": {},
     "output_type": "display_data"
    }
   ],
   "source": [
    "# 좌표별 60세이상노인인구수비율 그래프 표시\n",
    "old_pop_rate_heatmap = df[df['연도'] == 2022].pivot('y', 'x', '60세이상노인인구수비율').sort_index(ascending=False).fillna(0)\n",
    "ax = sns.heatmap(old_pop_rate_heatmap, cmap='Blues')\n",
    "plt.title('Old population heatmap on Buyeo in 2022', fontsize=20)\n",
    "plt.show()"
   ]
  },
  {
   "cell_type": "code",
   "execution_count": 168,
   "metadata": {},
   "outputs": [],
   "source": [
    "# 전처리된 데이터프레임 저장\n",
    "df.to_csv('./data/coorded_old_population.csv', encoding='utf-8-sig', index=False)"
   ]
  }
 ],
 "metadata": {
  "kernelspec": {
   "display_name": "base",
   "language": "python",
   "name": "python3"
  },
  "language_info": {
   "codemirror_mode": {
    "name": "ipython",
    "version": 3
   },
   "file_extension": ".py",
   "mimetype": "text/x-python",
   "name": "python",
   "nbconvert_exporter": "python",
   "pygments_lexer": "ipython3",
   "version": "3.9.13"
  },
  "orig_nbformat": 4
 },
 "nbformat": 4,
 "nbformat_minor": 2
}
