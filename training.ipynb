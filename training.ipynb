{
 "cells": [
  {
   "cell_type": "code",
   "execution_count": 1,
   "metadata": {},
   "outputs": [],
   "source": [
    "import pandas as pd\n",
    "import numpy as np\n",
    "import matplotlib.pyplot as plt\n",
    "import matplotlib as mpl\n",
    "import seaborn as sns\n",
    "import warnings\n",
    "\n",
    "warnings.filterwarnings(\"ignore\")"
   ]
  },
  {
   "cell_type": "code",
   "execution_count": 2,
   "metadata": {},
   "outputs": [],
   "source": [
    "df = pd.read_csv('./data/preprocessed_data.csv')"
   ]
  },
  {
   "cell_type": "code",
   "execution_count": 3,
   "metadata": {},
   "outputs": [
    {
     "data": {
      "text/plain": [
       "<AxesSubplot:>"
      ]
     },
     "execution_count": 3,
     "metadata": {},
     "output_type": "execute_result"
    },
    {
     "data": {
      "image/png": "[encoded data removed]",
      "text/plain": [
       "<Figure size 640x480 with 1 Axes>"
      ]
     },
     "metadata": {},
     "output_type": "display_data"
    }
   ],
   "source": [
    "# 불이 안난 경우가 훨씬 많음\n",
    "df['fire'].value_counts().plot.bar()"
   ]
  },
  {
   "attachments": {},
   "cell_type": "markdown",
   "metadata": {},
   "source": [
    "# 1. Random Undersampling"
   ]
  },
  {
   "cell_type": "code",
   "execution_count": 4,
   "metadata": {},
   "outputs": [
    {
     "data": {
      "text/html": [
       "<div>\n",
       "<style scoped>\n",
       "    .dataframe tbody tr th:only-of-type {\n",
       "        vertical-align: middle;\n",
       "    }\n",
       "\n",
       "    .dataframe tbody tr th {\n",
       "        vertical-align: top;\n",
       "    }\n",
       "\n",
       "    .dataframe thead th {\n",
       "        text-align: right;\n",
       "    }\n",
       "</style>\n",
       "<table border=\"1\" class=\"dataframe\">\n",
       "  <thead>\n",
       "    <tr style=\"text-align: right;\">\n",
       "      <th></th>\n",
       "      <th>month</th>\n",
       "      <th>x</th>\n",
       "      <th>y</th>\n",
       "      <th>pop_rate</th>\n",
       "      <th>old_pop_rate</th>\n",
       "      <th>sto_num</th>\n",
       "      <th>barn_spwn_num</th>\n",
       "      <th>avg_temp</th>\n",
       "      <th>min_temp</th>\n",
       "      <th>max_temp</th>\n",
       "      <th>avg_hum</th>\n",
       "      <th>daily_pre</th>\n",
       "      <th>avg_wind</th>\n",
       "      <th>field_fire</th>\n",
       "      <th>green_fire</th>\n",
       "      <th>fire</th>\n",
       "    </tr>\n",
       "  </thead>\n",
       "  <tbody>\n",
       "    <tr>\n",
       "      <th>8437</th>\n",
       "      <td>3</td>\n",
       "      <td>0.071429</td>\n",
       "      <td>0.714286</td>\n",
       "      <td>0.040054</td>\n",
       "      <td>0.092166</td>\n",
       "      <td>0.075472</td>\n",
       "      <td>0.000000</td>\n",
       "      <td>0.303109</td>\n",
       "      <td>0.292011</td>\n",
       "      <td>0.371359</td>\n",
       "      <td>0.439338</td>\n",
       "      <td>0.010695</td>\n",
       "      <td>0.272727</td>\n",
       "      <td>0.071429</td>\n",
       "      <td>0.071429</td>\n",
       "      <td>0.0</td>\n",
       "    </tr>\n",
       "    <tr>\n",
       "      <th>11705</th>\n",
       "      <td>3</td>\n",
       "      <td>0.142857</td>\n",
       "      <td>0.357143</td>\n",
       "      <td>0.038427</td>\n",
       "      <td>0.086070</td>\n",
       "      <td>0.207547</td>\n",
       "      <td>0.000000</td>\n",
       "      <td>0.295337</td>\n",
       "      <td>0.283747</td>\n",
       "      <td>0.393204</td>\n",
       "      <td>0.560662</td>\n",
       "      <td>0.000000</td>\n",
       "      <td>0.212121</td>\n",
       "      <td>0.000000</td>\n",
       "      <td>0.000000</td>\n",
       "      <td>1.0</td>\n",
       "    </tr>\n",
       "    <tr>\n",
       "      <th>3015</th>\n",
       "      <td>11</td>\n",
       "      <td>0.214286</td>\n",
       "      <td>0.857143</td>\n",
       "      <td>0.024252</td>\n",
       "      <td>0.066975</td>\n",
       "      <td>0.000000</td>\n",
       "      <td>0.000000</td>\n",
       "      <td>0.544041</td>\n",
       "      <td>0.528926</td>\n",
       "      <td>0.580097</td>\n",
       "      <td>0.584559</td>\n",
       "      <td>0.000000</td>\n",
       "      <td>0.151515</td>\n",
       "      <td>0.000000</td>\n",
       "      <td>0.000000</td>\n",
       "      <td>0.0</td>\n",
       "    </tr>\n",
       "    <tr>\n",
       "      <th>17879</th>\n",
       "      <td>12</td>\n",
       "      <td>0.500000</td>\n",
       "      <td>0.642857</td>\n",
       "      <td>1.000000</td>\n",
       "      <td>1.000000</td>\n",
       "      <td>0.981132</td>\n",
       "      <td>0.333333</td>\n",
       "      <td>0.121762</td>\n",
       "      <td>0.143251</td>\n",
       "      <td>0.092233</td>\n",
       "      <td>0.104779</td>\n",
       "      <td>0.000000</td>\n",
       "      <td>0.242424</td>\n",
       "      <td>0.357143</td>\n",
       "      <td>0.357143</td>\n",
       "      <td>1.0</td>\n",
       "    </tr>\n",
       "    <tr>\n",
       "      <th>17513</th>\n",
       "      <td>9</td>\n",
       "      <td>0.857143</td>\n",
       "      <td>0.571429</td>\n",
       "      <td>0.104754</td>\n",
       "      <td>0.165997</td>\n",
       "      <td>0.471698</td>\n",
       "      <td>0.333333</td>\n",
       "      <td>0.759067</td>\n",
       "      <td>0.823691</td>\n",
       "      <td>0.737864</td>\n",
       "      <td>0.753676</td>\n",
       "      <td>0.000000</td>\n",
       "      <td>0.151515</td>\n",
       "      <td>0.071429</td>\n",
       "      <td>0.071429</td>\n",
       "      <td>1.0</td>\n",
       "    </tr>\n",
       "  </tbody>\n",
       "</table>\n",
       "</div>"
      ],
      "text/plain": [
       "       month         x         y  pop_rate  old_pop_rate   sto_num  \\\n",
       "8437       3  0.071429  0.714286  0.040054      0.092166  0.075472   \n",
       "11705      3  0.142857  0.357143  0.038427      0.086070  0.207547   \n",
       "3015      11  0.214286  0.857143  0.024252      0.066975  0.000000   \n",
       "17879     12  0.500000  0.642857  1.000000      1.000000  0.981132   \n",
       "17513      9  0.857143  0.571429  0.104754      0.165997  0.471698   \n",
       "\n",
       "       barn_spwn_num  avg_temp  min_temp  max_temp   avg_hum  daily_pre  \\\n",
       "8437        0.000000  0.303109  0.292011  0.371359  0.439338   0.010695   \n",
       "11705       0.000000  0.295337  0.283747  0.393204  0.560662   0.000000   \n",
       "3015        0.000000  0.544041  0.528926  0.580097  0.584559   0.000000   \n",
       "17879       0.333333  0.121762  0.143251  0.092233  0.104779   0.000000   \n",
       "17513       0.333333  0.759067  0.823691  0.737864  0.753676   0.000000   \n",
       "\n",
       "       avg_wind  field_fire  green_fire  fire  \n",
       "8437   0.272727    0.071429    0.071429   0.0  \n",
       "11705  0.212121    0.000000    0.000000   1.0  \n",
       "3015   0.151515    0.000000    0.000000   0.0  \n",
       "17879  0.242424    0.357143    0.357143   1.0  \n",
       "17513  0.151515    0.071429    0.071429   1.0  "
      ]
     },
     "execution_count": 4,
     "metadata": {},
     "output_type": "execute_result"
    }
   ],
   "source": [
    "# 랜덤 언더샘플링으로 화재 발생하지 않은 지역 샘플링\n",
    "shuffled_df = df.sample(frac=1, random_state=42)\n",
    "\n",
    "fire_df = shuffled_df.loc[shuffled_df['fire'] != 0]\n",
    "non_fire_df = shuffled_df.loc[shuffled_df['fire'] == 0][:len(fire_df)]\n",
    "\n",
    "norm_df = pd.concat([fire_df, non_fire_df])\n",
    "rand_sub_df = norm_df.sample(frac=1, random_state=42)\n",
    "\n",
    "rand_sub_df.head()"
   ]
  },
  {
   "cell_type": "code",
   "execution_count": 5,
   "metadata": {},
   "outputs": [
    {
     "data": {
      "text/plain": [
       "<AxesSubplot:>"
      ]
     },
     "execution_count": 5,
     "metadata": {},
     "output_type": "execute_result"
    },
    {
     "data": {
      "image/png": "[encoded data removed]",
      "text/plain": [
       "<Figure size 640x480 with 1 Axes>"
      ]
     },
     "metadata": {},
     "output_type": "display_data"
    }
   ],
   "source": [
    "# 불이 난 경우와 안난 경우가 같아짐\n",
    "rand_sub_df['fire'].value_counts().plot.bar()"
   ]
  },
  {
   "cell_type": "code",
   "execution_count": 6,
   "metadata": {},
   "outputs": [
    {
     "data": {
      "text/plain": [
       "<AxesSubplot:>"
      ]
     },
     "execution_count": 6,
     "metadata": {},
     "output_type": "execute_result"
    },
    {
     "data": {
      "image/png": "[encoded data removed]",
      "text/plain": [
       "<Figure size 640x480 with 2 Axes>"
      ]
     },
     "metadata": {},
     "output_type": "display_data"
    }
   ],
   "source": [
    "# 변수별 상관관계 분석\n",
    "corr = rand_sub_df.corr()\n",
    "sns.heatmap(corr, cmap='coolwarm_r')"
   ]
  },
  {
   "cell_type": "code",
   "execution_count": 7,
   "metadata": {},
   "outputs": [
    {
     "data": {
      "text/plain": [
       "fire             1.000000\n",
       "field_fire       0.350398\n",
       "green_fire       0.350398\n",
       "old_pop_rate     0.290467\n",
       "pop_rate         0.253521\n",
       "sto_num          0.161138\n",
       "x                0.077616\n",
       "avg_wind         0.047629\n",
       "y                0.010616\n",
       "daily_pre        0.005192\n",
       "barn_spwn_num    0.001956\n",
       "avg_hum         -0.087642\n",
       "month           -0.141189\n",
       "max_temp        -0.156878\n",
       "avg_temp        -0.160180\n",
       "min_temp        -0.163089\n",
       "Name: fire, dtype: float64"
      ]
     },
     "execution_count": 7,
     "metadata": {},
     "output_type": "execute_result"
    }
   ],
   "source": [
    "# 변수별 상관관계 조사\n",
    "corr['fire'].sort_values(ascending=False)"
   ]
  },
  {
   "cell_type": "code",
   "execution_count": 8,
   "metadata": {},
   "outputs": [],
   "source": [
    "from sklearn.model_selection import train_test_split, cross_val_score, cross_val_predict, GridSearchCV, StratifiedKFold\n",
    "from sklearn.linear_model import LogisticRegression\n",
    "from sklearn.neighbors import KNeighborsClassifier\n",
    "from sklearn.tree import DecisionTreeClassifier\n",
    "from sklearn.ensemble import RandomForestClassifier\n",
    "from imblearn.pipeline import make_pipeline\n",
    "from imblearn.under_sampling import NearMiss\n",
    "from imblearn.over_sampling import SMOTE\n",
    "\n",
    "from sklearn.metrics import accuracy_score, recall_score, precision_score, roc_auc_score, f1_score, average_precision_score"
   ]
  },
  {
   "cell_type": "code",
   "execution_count": 9,
   "metadata": {},
   "outputs": [],
   "source": [
    "# train, test 데이터 스플릿\n",
    "X = rand_sub_df.drop('fire', axis=1)\n",
    "y = rand_sub_df['fire']\n",
    "\n",
    "X_train, X_test, y_train, y_test = train_test_split(X, y, test_size=0.2, random_state=42)"
   ]
  },
  {
   "cell_type": "code",
   "execution_count": 10,
   "metadata": {},
   "outputs": [
    {
     "name": "stdout",
     "output_type": "stream",
     "text": [
      "LogisticRegression 에서 학습 정확도 68.0 %\n",
      "KNeighborsClassifier 에서 학습 정확도 64.0 %\n",
      "DecisionTreeClassifier 에서 학습 정확도 59.0 %\n",
      "RandomForestClassifier 에서 학습 정확도 66.0 %\n"
     ]
    }
   ],
   "source": [
    "# 모델 기본 파라미터로 학습\n",
    "classifiers = {\n",
    "    \"로지스틱회귀\": LogisticRegression(),\n",
    "    \"K최근접\": KNeighborsClassifier(),\n",
    "    \"결정트리\": DecisionTreeClassifier(),\n",
    "    \"랜덤포레스트\": RandomForestClassifier()\n",
    "}\n",
    "\n",
    "for _, classifier in classifiers.items():\n",
    "    classifier.fit(X_train, y_train)\n",
    "    training_score = cross_val_score(classifier, X_train, y_train, cv=5)\n",
    "    print(classifier.__class__.__name__, \"에서 학습 정확도\", round(training_score.mean(), 2) * 100, \"%\")"
   ]
  },
  {
   "cell_type": "code",
   "execution_count": 11,
   "metadata": {},
   "outputs": [
    {
     "name": "stdout",
     "output_type": "stream",
     "text": [
      "최고예측정확도: 68.03% 파라미터: {'C': 10, 'penalty': 'l2'}\n"
     ]
    }
   ],
   "source": [
    "# 로지스틱회귀 하이퍼파라미터 튜닝\n",
    "lr_params = {'penalty': ['l1', 'l2'], 'C': [0.001, 0.01, 0.1, 1, 10, 100, 1000]}\n",
    "\n",
    "lr_grid = GridSearchCV(LogisticRegression(), lr_params)\n",
    "lr_grid.fit(X_train, y_train)\n",
    "lr_best = lr_grid.best_estimator_\n",
    "\n",
    "print('최고예측정확도: {:.2f}%'.format(lr_grid.best_score_ * 100), '파라미터:', lr_grid.best_params_)\n",
    "# 최고예측정확도: 68.03% 파라미터: {'C': 10, 'penalty': 'l2'}"
   ]
  },
  {
   "cell_type": "code",
   "execution_count": 12,
   "metadata": {},
   "outputs": [
    {
     "name": "stdout",
     "output_type": "stream",
     "text": [
      "최고예측정확도: 62.20% 파라미터: {'algorithm': 'auto', 'n_neighbors': 4}\n"
     ]
    }
   ],
   "source": [
    "# K최근접 하이퍼파라미터 튜닝\n",
    "kn_params = {\"n_neighbors\": [2, 3, 4], 'algorithm': ['auto', 'ball_tree', 'kd_tree', 'brute']}\n",
    "\n",
    "kn_grid = GridSearchCV(KNeighborsClassifier(), kn_params)\n",
    "kn_grid.fit(X_train, y_train)\n",
    "kn_best = kn_grid.best_estimator_\n",
    "\n",
    "print('최고예측정확도: {:.2f}%'.format(kn_grid.best_score_ * 100), '파라미터:', kn_grid.best_params_)\n",
    "# 최고예측정확도: 62.20% 파라미터: {'algorithm': 'auto', 'n_neighbors': 4}"
   ]
  },
  {
   "cell_type": "code",
   "execution_count": 13,
   "metadata": {},
   "outputs": [
    {
     "name": "stdout",
     "output_type": "stream",
     "text": [
      "최고예측정확도: 66.65% 파라미터: {'criterion': 'gini', 'max_depth': 3, 'min_samples_leaf': 5}\n"
     ]
    }
   ],
   "source": [
    "# 결정트리 하이퍼파라미터 튜닝\n",
    "dt_params = {\"criterion\": [\"gini\", \"entropy\"], \"max_depth\": [2, 3, 4, 5], \"min_samples_leaf\": [5, 6, 7, 8, 9]}\n",
    "\n",
    "dt_grid = GridSearchCV(DecisionTreeClassifier(), dt_params)\n",
    "dt_grid.fit(X_train, y_train)\n",
    "dt_best = dt_grid.best_estimator_\n",
    "\n",
    "print('최고예측정확도: {:.2f}%'.format(dt_grid.best_score_ * 100), '파라미터:', dt_grid.best_params_)\n",
    "# 최고예측정확도: 66.65% 파라미터: {'criterion': 'gini', 'max_depth': 3, 'min_samples_leaf': 5}"
   ]
  },
  {
   "cell_type": "code",
   "execution_count": 29,
   "metadata": {},
   "outputs": [
    {
     "name": "stdout",
     "output_type": "stream",
     "text": [
      "최고예측정확도: 69.03% 파라미터: {'max_depth': 8, 'min_samples_leaf': 8, 'min_samples_split': 8, 'n_estimators': 100}\n"
     ]
    }
   ],
   "source": [
    "# 랜덤포레스트 하이퍼파라미터 튜닝\n",
    "rf_params = { 'n_estimators' : [100], 'max_depth' : [4, 6, 8], 'min_samples_leaf' : [8, 12, 18, 20], 'min_samples_split' : [6, 8, 16]}\n",
    "\n",
    "rf_grid = GridSearchCV(RandomForestClassifier(), rf_params)\n",
    "rf_grid.fit(X_train, y_train)\n",
    "rf_best = rf_grid.best_estimator_\n",
    "\n",
    "print('최고예측정확도: {:.2f}%'.format(rf_grid.best_score_ * 100), '파라미터:', rf_grid.best_params_)\n",
    "# 최고예측정확도: 69.03% 파라미터: {'max_depth': 8, 'min_samples_leaf': 8, 'min_samples_split': 8, 'n_estimators': 100}"
   ]
  },
  {
   "cell_type": "code",
   "execution_count": 30,
   "metadata": {},
   "outputs": [
    {
     "name": "stdout",
     "output_type": "stream",
     "text": [
      "로지스틱 회귀 F1 스코어: 65.95%\n",
      "K최근접 F1 스코어: 54.73%\n",
      "결정트리 F1 스코어: 64.63%\n",
      "랜덤포레스트 F1 스코어: 68.83%\n"
     ]
    }
   ],
   "source": [
    "# 모델 알고리즘 f1 스코어 cross validation\n",
    "lr_score_f1 = cross_val_score(lr_best, X_train, y_train, scoring='f1', cv=5)\n",
    "kn_score_f1 = cross_val_score(kn_best, X_train, y_train, scoring='f1', cv=5)\n",
    "dt_score_f1 = cross_val_score(dt_best, X_train, y_train, scoring='f1', cv=5)\n",
    "rf_score_f1 = cross_val_score(rf_best, X_train, y_train, scoring='f1', cv=5)\n",
    "\n",
    "print('로지스틱 회귀 F1 스코어: {:.2f}%'.format(lr_score_f1.mean() * 100))\n",
    "print('K최근접 F1 스코어: {:.2f}%'.format(kn_score_f1.mean() * 100))\n",
    "print('결정트리 F1 스코어: {:.2f}%'.format(dt_score_f1.mean() * 100))\n",
    "print('랜덤포레스트 F1 스코어: {:.2f}%'.format(rf_score_f1.mean() * 100))"
   ]
  },
  {
   "cell_type": "code",
   "execution_count": 33,
   "metadata": {},
   "outputs": [
    {
     "name": "stdout",
     "output_type": "stream",
     "text": [
      "로지스틱 회귀 ROC AUC 스코어: 0.74664\n",
      "K최근접 ROC AUC 스코어: 0.62058\n",
      "결정트리 ROC AUC 스코어: 0.66611\n",
      "랜덤포레스트 ROC AUC 스코어: 0.68555\n"
     ]
    }
   ],
   "source": [
    "# 모델 알고리즘 ROC AUC 스코어 cross validation\n",
    "lr_pred = cross_val_predict(lr_best, X_train, y_train, cv=5, method=\"decision_function\")\n",
    "kn_pred = cross_val_predict(kn_best, X_train, y_train, cv=5)\n",
    "dt_pred = cross_val_predict(dt_best, X_train, y_train, cv=5)\n",
    "rf_pred = cross_val_predict(rf_best, X_train, y_train, cv=5)\n",
    "\n",
    "print('로지스틱 회귀 ROC AUC 스코어: {:.5f}'.format(roc_auc_score(y_train, lr_pred)))\n",
    "print('K최근접 ROC AUC 스코어: {:.5f}'.format(roc_auc_score(y_train, kn_pred)))\n",
    "print('결정트리 ROC AUC 스코어: {:.5f}'.format(roc_auc_score(y_train, dt_pred)))\n",
    "print('랜덤포레스트 ROC AUC 스코어: {:.5f}'.format(roc_auc_score(y_train, rf_pred)))"
   ]
  },
  {
   "attachments": {},
   "cell_type": "markdown",
   "metadata": {},
   "source": [
    "Undersampling에서는 로지스틱 회귀가 적절해보임"
   ]
  },
  {
   "attachments": {},
   "cell_type": "markdown",
   "metadata": {},
   "source": [
    "# 2. SMOTE Oversampling"
   ]
  },
  {
   "cell_type": "code",
   "execution_count": 16,
   "metadata": {},
   "outputs": [],
   "source": [
    "# 데이터를 X, y로 분류\n",
    "skfold = StratifiedKFold(n_splits=5, random_state=None, shuffle=False)\n",
    "near_sub_X = df.drop('fire', axis=1)\n",
    "near_sub_y = df.loc[:, ['fire']]\n",
    "\n",
    "for train_idx, test_idx in skfold.split(near_sub_X, near_sub_y):\n",
    "    near_sub_X_train = near_sub_X.iloc[train_idx]\n",
    "    near_sub_X_test = near_sub_X.iloc[test_idx]\n",
    "    near_sub_y_train = near_sub_y.iloc[train_idx]\n",
    "    near_sub_y_test = near_sub_y.iloc[test_idx]\n",
    "\n",
    "near_sub_X_train = near_sub_X_train.values\n",
    "near_sub_X_test = near_sub_X_test.values\n",
    "near_sub_y_train = near_sub_y_train.values\n",
    "near_sub_y_test = near_sub_y_test.values"
   ]
  },
  {
   "cell_type": "code",
   "execution_count": 20,
   "metadata": {},
   "outputs": [],
   "source": [
    "# NearMiss 방법으로 Undersampling\n",
    "near_acc = []\n",
    "near_prec = []\n",
    "near_recall = []\n",
    "near_f1 = []\n",
    "near_auc = []\n",
    "\n",
    "near_X, near_y = NearMiss().fit_resample(near_sub_X.values, near_sub_y.values)\n",
    "\n",
    "for train, test in skfold.split(near_sub_X_train, near_sub_y_train):\n",
    "    pipeline = make_pipeline(NearMiss(), rf_best)\n",
    "    model = pipeline.fit(near_sub_X_train[train], near_sub_y_train[train])\n",
    "    pred = model.predict(near_sub_X_train[test])\n",
    "    \n",
    "    near_acc.append(pipeline.score(near_sub_X_train[test], near_sub_y_train[test]))\n",
    "    near_prec.append(precision_score(near_sub_y_train[test], pred))\n",
    "    near_recall.append(recall_score(near_sub_y_train[test], pred))\n",
    "    near_f1.append(f1_score(near_sub_y_train[test], pred))\n",
    "    near_auc.append(roc_auc_score(near_sub_y_train[test], pred))"
   ]
  },
  {
   "cell_type": "code",
   "execution_count": 26,
   "metadata": {},
   "outputs": [
    {
     "data": {
      "text/plain": [
       "[0.2402957486136784,\n",
       " 0.19938650306748465,\n",
       " 0.16049382716049385,\n",
       " 0.16442451420029894,\n",
       " 0.1665943600867679]"
      ]
     },
     "execution_count": 26,
     "metadata": {},
     "output_type": "execute_result"
    }
   ],
   "source": [
    "near_f1"
   ]
  }
 ],
 "metadata": {
  "kernelspec": {
   "display_name": "base",
   "language": "python",
   "name": "python3"
  },
  "language_info": {
   "codemirror_mode": {
    "name": "ipython",
    "version": 3
   },
   "file_extension": ".py",
   "mimetype": "text/x-python",
   "name": "python",
   "nbconvert_exporter": "python",
   "pygments_lexer": "ipython3",
   "version": "3.9.13"
  },
  "orig_nbformat": 4
 },
 "nbformat": 4,
 "nbformat_minor": 2
}
