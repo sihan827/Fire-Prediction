{
 "cells": [
  {
   "cell_type": "code",
   "execution_count": 1,
   "metadata": {},
   "outputs": [],
   "source": [
    "import pandas as pd\n",
    "import numpy as np\n",
    "import requests \n",
    "import json\n",
    "import re"
   ]
  },
  {
   "cell_type": "code",
   "execution_count": 32,
   "metadata": {},
   "outputs": [],
   "source": [
    "df = pd.read_csv('./data/old_population.csv')"
   ]
  },
  {
   "cell_type": "code",
   "execution_count": 33,
   "metadata": {},
   "outputs": [
    {
     "data": {
      "text/html": [
       "<div>\n",
       "<style scoped>\n",
       "    .dataframe tbody tr th:only-of-type {\n",
       "        vertical-align: middle;\n",
       "    }\n",
       "\n",
       "    .dataframe tbody tr th {\n",
       "        vertical-align: top;\n",
       "    }\n",
       "\n",
       "    .dataframe thead th {\n",
       "        text-align: right;\n",
       "    }\n",
       "</style>\n",
       "<table border=\"1\" class=\"dataframe\">\n",
       "  <thead>\n",
       "    <tr style=\"text-align: right;\">\n",
       "      <th></th>\n",
       "      <th>주소</th>\n",
       "    </tr>\n",
       "  </thead>\n",
       "  <tbody>\n",
       "    <tr>\n",
       "      <th>0</th>\n",
       "      <td>부여군 구룡면 구봉1리</td>\n",
       "    </tr>\n",
       "    <tr>\n",
       "      <th>1</th>\n",
       "      <td>부여군 구룡면 구봉2리</td>\n",
       "    </tr>\n",
       "    <tr>\n",
       "      <th>2</th>\n",
       "      <td>부여군 구룡면 구봉3리</td>\n",
       "    </tr>\n",
       "    <tr>\n",
       "      <th>3</th>\n",
       "      <td>부여군 구룡면 죽절리</td>\n",
       "    </tr>\n",
       "    <tr>\n",
       "      <th>4</th>\n",
       "      <td>부여군 구룡면 주정1리</td>\n",
       "    </tr>\n",
       "  </tbody>\n",
       "</table>\n",
       "</div>"
      ],
      "text/plain": [
       "             주소\n",
       "0  부여군 구룡면 구봉1리\n",
       "1  부여군 구룡면 구봉2리\n",
       "2  부여군 구룡면 구봉3리\n",
       "3   부여군 구룡면 죽절리\n",
       "4  부여군 구룡면 주정1리"
      ]
     },
     "execution_count": 33,
     "metadata": {},
     "output_type": "execute_result"
    }
   ],
   "source": [
    "df = df.loc[:, ['연도', '읍/면', '리', '전체인구수', '60세이상노인인구수']]\n",
    "df['주소'] = '부여군 ' + df['읍/면'] + ' ' + df['리']\n",
    "df_addr = df[['주소']]\n",
    "df_addr.head()"
   ]
  },
  {
   "cell_type": "code",
   "execution_count": 4,
   "metadata": {},
   "outputs": [
    {
     "data": {
      "text/plain": [
       "{'Authorization': 'KakaoAK c8d2487b6ee1ee531c4b6899126efe7f'}"
      ]
     },
     "execution_count": 4,
     "metadata": {},
     "output_type": "execute_result"
    }
   ],
   "source": [
    "API_KEY = 'c8d2487b6ee1ee531c4b6899126efe7f'\n",
    "headers = {'Authorization' : 'KakaoAK '+API_KEY}\n",
    "headers"
   ]
  },
  {
   "cell_type": "code",
   "execution_count": 7,
   "metadata": {},
   "outputs": [],
   "source": [
    "def getLat(addr):\n",
    "    url = 'https://dapi.kakao.com/v2/local/search/address.json?query=' + addr\n",
    "    result = json.loads(str(requests.get(url, headers=headers).text))\n",
    "    if len(result['documents']) == 0:\n",
    "        new_addr = re.sub(r'[0-9]+', '', addr)\n",
    "        url = 'https://dapi.kakao.com/v2/local/search/address.json?query=' + new_addr\n",
    "        result = json.loads(str(requests.get(url, headers=headers).text))\n",
    "\n",
    "    match_first = result['documents'][0]['address']\n",
    "\n",
    "    return float(match_first['y'])\n",
    "\n",
    "def getLng(addr):\n",
    "    url = 'https://dapi.kakao.com/v2/local/search/address.json?query=' + addr\n",
    "    result = json.loads(str(requests.get(url, headers=headers).text))\n",
    "    if len(result['documents']) == 0:\n",
    "        new_addr = re.sub(r'[0-9]+', '', addr)\n",
    "        url = 'https://dapi.kakao.com/v2/local/search/address.json?query=' + new_addr\n",
    "        result = json.loads(str(requests.get(url, headers=headers).text))\n",
    "        \n",
    "    match_first = result['documents'][0]['address']\n",
    "    return float(match_first['x'])"
   ]
  },
  {
   "cell_type": "code",
   "execution_count": 8,
   "metadata": {},
   "outputs": [
    {
     "name": "stdout",
     "output_type": "stream",
     "text": [
      "126.821951040264 36.2536148355823\n"
     ]
    }
   ],
   "source": [
    "lng = getLng(df_addr['주소'][4])\n",
    "lat = getLat(df_addr['주소'][4])\n",
    "print(lng, lat)"
   ]
  },
  {
   "cell_type": "code",
   "execution_count": 34,
   "metadata": {},
   "outputs": [
    {
     "name": "stdout",
     "output_type": "stream",
     "text": [
      "0 번째 주소에 대한 좌표정보 불러오는 중...\n",
      "100 번째 주소에 대한 좌표정보 불러오는 중...\n",
      "200 번째 주소에 대한 좌표정보 불러오는 중...\n",
      "300 번째 주소에 대한 좌표정보 불러오는 중...\n",
      "400 번째 주소에 대한 좌표정보 불러오는 중...\n",
      "500 번째 주소에 대한 좌표정보 불러오는 중...\n",
      "600 번째 주소에 대한 좌표정보 불러오는 중...\n",
      "700 번째 주소에 대한 좌표정보 불러오는 중...\n",
      "800 번째 주소에 대한 좌표정보 불러오는 중...\n",
      "error 817\n",
      "900 번째 주소에 대한 좌표정보 불러오는 중...\n",
      "1000 번째 주소에 대한 좌표정보 불러오는 중...\n",
      "1100 번째 주소에 대한 좌표정보 불러오는 중...\n",
      "1200 번째 주소에 대한 좌표정보 불러오는 중...\n",
      "1300 번째 주소에 대한 좌표정보 불러오는 중...\n",
      "error 1356\n",
      "1400 번째 주소에 대한 좌표정보 불러오는 중...\n",
      "1500 번째 주소에 대한 좌표정보 불러오는 중...\n",
      "1600 번째 주소에 대한 좌표정보 불러오는 중...\n",
      "1700 번째 주소에 대한 좌표정보 불러오는 중...\n",
      "1800 번째 주소에 대한 좌표정보 불러오는 중...\n",
      "1900 번째 주소에 대한 좌표정보 불러오는 중...\n",
      "2000 번째 주소에 대한 좌표정보 불러오는 중...\n",
      "2100 번째 주소에 대한 좌표정보 불러오는 중...\n",
      "2200 번째 주소에 대한 좌표정보 불러오는 중...\n",
      "2300 번째 주소에 대한 좌표정보 불러오는 중...\n",
      "2400 번째 주소에 대한 좌표정보 불러오는 중...\n",
      "2500 번째 주소에 대한 좌표정보 불러오는 중...\n",
      "2600 번째 주소에 대한 좌표정보 불러오는 중...\n",
      "2700 번째 주소에 대한 좌표정보 불러오는 중...\n",
      "2800 번째 주소에 대한 좌표정보 불러오는 중...\n",
      "2900 번째 주소에 대한 좌표정보 불러오는 중...\n",
      "3000 번째 주소에 대한 좌표정보 불러오는 중...\n",
      "3100 번째 주소에 대한 좌표정보 불러오는 중...\n",
      "3200 번째 주소에 대한 좌표정보 불러오는 중...\n",
      "3300 번째 주소에 대한 좌표정보 불러오는 중...\n",
      "3400 번째 주소에 대한 좌표정보 불러오는 중...\n",
      "3500 번째 주소에 대한 좌표정보 불러오는 중...\n",
      "3600 번째 주소에 대한 좌표정보 불러오는 중...\n",
      "3700 번째 주소에 대한 좌표정보 불러오는 중...\n",
      "3800 번째 주소에 대한 좌표정보 불러오는 중...\n",
      "3900 번째 주소에 대한 좌표정보 불러오는 중...\n",
      "4000 번째 주소에 대한 좌표정보 불러오는 중...\n",
      "4100 번째 주소에 대한 좌표정보 불러오는 중...\n",
      "4200 번째 주소에 대한 좌표정보 불러오는 중...\n",
      "4300 번째 주소에 대한 좌표정보 불러오는 중...\n",
      "4400 번째 주소에 대한 좌표정보 불러오는 중...\n",
      "4500 번째 주소에 대한 좌표정보 불러오는 중...\n",
      "4600 번째 주소에 대한 좌표정보 불러오는 중...\n",
      "4700 번째 주소에 대한 좌표정보 불러오는 중...\n"
     ]
    }
   ],
   "source": [
    "for i in range(len(df)):\n",
    "    try:\n",
    "        lng = getLng(df_addr['주소'][i])\n",
    "        lat = getLat(df_addr['주소'][i])\n",
    "        df_addr.loc[i,['경도']] = lng\n",
    "        df_addr.loc[i,['위도']] = lat\n",
    "\n",
    "    except:\n",
    "        print('error',i)\n",
    "        \n",
    "    \n",
    "    if i%100 == 0:\n",
    "        print('{} 번째 주소에 대한 좌표정보 불러오는 중...'.format(i)) "
   ]
  },
  {
   "cell_type": "code",
   "execution_count": 41,
   "metadata": {},
   "outputs": [
    {
     "data": {
      "text/plain": [
       "주소    부여군 부여읍 가증1리\n",
       "경도      126.946247\n",
       "위도       36.302555\n",
       "Name: 1356, dtype: object"
      ]
     },
     "execution_count": 41,
     "metadata": {},
     "output_type": "execute_result"
    }
   ],
   "source": [
    "df_addr.iloc[1356]"
   ]
  },
  {
   "cell_type": "code",
   "execution_count": 40,
   "metadata": {},
   "outputs": [],
   "source": [
    "lng = getLng('부여군 부여읍 가증리')\n",
    "lat = getLat('부여군 부여읍 가증리')\n",
    "df_addr.loc[1356,['경도']] = lng\n",
    "df_addr.loc[1356,['위도']] = lat"
   ]
  },
  {
   "cell_type": "code",
   "execution_count": 42,
   "metadata": {},
   "outputs": [],
   "source": [
    "df['경도'] = df_addr['경도']\n",
    "df['위도'] = df_addr['위도']"
   ]
  },
  {
   "cell_type": "code",
   "execution_count": 51,
   "metadata": {},
   "outputs": [
    {
     "data": {
      "text/html": [
       "<div>\n",
       "<style scoped>\n",
       "    .dataframe tbody tr th:only-of-type {\n",
       "        vertical-align: middle;\n",
       "    }\n",
       "\n",
       "    .dataframe tbody tr th {\n",
       "        vertical-align: top;\n",
       "    }\n",
       "\n",
       "    .dataframe thead th {\n",
       "        text-align: right;\n",
       "    }\n",
       "</style>\n",
       "<table border=\"1\" class=\"dataframe\">\n",
       "  <thead>\n",
       "    <tr style=\"text-align: right;\">\n",
       "      <th></th>\n",
       "      <th>연도</th>\n",
       "      <th>읍/면</th>\n",
       "      <th>리</th>\n",
       "      <th>전체인구수</th>\n",
       "      <th>60세이상노인인구수</th>\n",
       "      <th>주소</th>\n",
       "      <th>경도</th>\n",
       "      <th>위도</th>\n",
       "    </tr>\n",
       "  </thead>\n",
       "  <tbody>\n",
       "    <tr>\n",
       "      <th>0</th>\n",
       "      <td>2022</td>\n",
       "      <td>구룡면</td>\n",
       "      <td>구봉1리</td>\n",
       "      <td>110</td>\n",
       "      <td>65</td>\n",
       "      <td>부여군 구룡면 구봉1리</td>\n",
       "      <td>126.839518</td>\n",
       "      <td>36.261862</td>\n",
       "    </tr>\n",
       "    <tr>\n",
       "      <th>1</th>\n",
       "      <td>2022</td>\n",
       "      <td>구룡면</td>\n",
       "      <td>구봉2리</td>\n",
       "      <td>49</td>\n",
       "      <td>26</td>\n",
       "      <td>부여군 구룡면 구봉2리</td>\n",
       "      <td>126.839508</td>\n",
       "      <td>36.261593</td>\n",
       "    </tr>\n",
       "    <tr>\n",
       "      <th>2</th>\n",
       "      <td>2022</td>\n",
       "      <td>구룡면</td>\n",
       "      <td>구봉3리</td>\n",
       "      <td>52</td>\n",
       "      <td>33</td>\n",
       "      <td>부여군 구룡면 구봉3리</td>\n",
       "      <td>126.839729</td>\n",
       "      <td>36.261491</td>\n",
       "    </tr>\n",
       "    <tr>\n",
       "      <th>3</th>\n",
       "      <td>2022</td>\n",
       "      <td>구룡면</td>\n",
       "      <td>죽절리</td>\n",
       "      <td>186</td>\n",
       "      <td>101</td>\n",
       "      <td>부여군 구룡면 죽절리</td>\n",
       "      <td>126.820220</td>\n",
       "      <td>36.265256</td>\n",
       "    </tr>\n",
       "    <tr>\n",
       "      <th>4</th>\n",
       "      <td>2022</td>\n",
       "      <td>구룡면</td>\n",
       "      <td>주정1리</td>\n",
       "      <td>89</td>\n",
       "      <td>49</td>\n",
       "      <td>부여군 구룡면 주정1리</td>\n",
       "      <td>126.821951</td>\n",
       "      <td>36.253615</td>\n",
       "    </tr>\n",
       "  </tbody>\n",
       "</table>\n",
       "</div>"
      ],
      "text/plain": [
       "     연도  읍/면     리  전체인구수  60세이상노인인구수            주소          경도         위도\n",
       "0  2022  구룡면  구봉1리    110          65  부여군 구룡면 구봉1리  126.839518  36.261862\n",
       "1  2022  구룡면  구봉2리     49          26  부여군 구룡면 구봉2리  126.839508  36.261593\n",
       "2  2022  구룡면  구봉3리     52          33  부여군 구룡면 구봉3리  126.839729  36.261491\n",
       "3  2022  구룡면   죽절리    186         101   부여군 구룡면 죽절리  126.820220  36.265256\n",
       "4  2022  구룡면  주정1리     89          49  부여군 구룡면 주정1리  126.821951  36.253615"
      ]
     },
     "execution_count": 51,
     "metadata": {},
     "output_type": "execute_result"
    }
   ],
   "source": [
    "df.head()"
   ]
  },
  {
   "cell_type": "code",
   "execution_count": 53,
   "metadata": {},
   "outputs": [],
   "source": [
    "df['60세이상노인비율'] = df['60세이상노인인구수'] / df['전체인구수']"
   ]
  },
  {
   "cell_type": "code",
   "execution_count": 54,
   "metadata": {},
   "outputs": [
    {
     "data": {
      "text/html": [
       "<div>\n",
       "<style scoped>\n",
       "    .dataframe tbody tr th:only-of-type {\n",
       "        vertical-align: middle;\n",
       "    }\n",
       "\n",
       "    .dataframe tbody tr th {\n",
       "        vertical-align: top;\n",
       "    }\n",
       "\n",
       "    .dataframe thead th {\n",
       "        text-align: right;\n",
       "    }\n",
       "</style>\n",
       "<table border=\"1\" class=\"dataframe\">\n",
       "  <thead>\n",
       "    <tr style=\"text-align: right;\">\n",
       "      <th></th>\n",
       "      <th>연도</th>\n",
       "      <th>읍/면</th>\n",
       "      <th>리</th>\n",
       "      <th>전체인구수</th>\n",
       "      <th>60세이상노인인구수</th>\n",
       "      <th>주소</th>\n",
       "      <th>경도</th>\n",
       "      <th>위도</th>\n",
       "      <th>60세이상노인비율</th>\n",
       "    </tr>\n",
       "  </thead>\n",
       "  <tbody>\n",
       "    <tr>\n",
       "      <th>0</th>\n",
       "      <td>2022</td>\n",
       "      <td>구룡면</td>\n",
       "      <td>구봉1리</td>\n",
       "      <td>110</td>\n",
       "      <td>65</td>\n",
       "      <td>부여군 구룡면 구봉1리</td>\n",
       "      <td>126.839518</td>\n",
       "      <td>36.261862</td>\n",
       "      <td>0.590909</td>\n",
       "    </tr>\n",
       "    <tr>\n",
       "      <th>1</th>\n",
       "      <td>2022</td>\n",
       "      <td>구룡면</td>\n",
       "      <td>구봉2리</td>\n",
       "      <td>49</td>\n",
       "      <td>26</td>\n",
       "      <td>부여군 구룡면 구봉2리</td>\n",
       "      <td>126.839508</td>\n",
       "      <td>36.261593</td>\n",
       "      <td>0.530612</td>\n",
       "    </tr>\n",
       "    <tr>\n",
       "      <th>2</th>\n",
       "      <td>2022</td>\n",
       "      <td>구룡면</td>\n",
       "      <td>구봉3리</td>\n",
       "      <td>52</td>\n",
       "      <td>33</td>\n",
       "      <td>부여군 구룡면 구봉3리</td>\n",
       "      <td>126.839729</td>\n",
       "      <td>36.261491</td>\n",
       "      <td>0.634615</td>\n",
       "    </tr>\n",
       "    <tr>\n",
       "      <th>3</th>\n",
       "      <td>2022</td>\n",
       "      <td>구룡면</td>\n",
       "      <td>죽절리</td>\n",
       "      <td>186</td>\n",
       "      <td>101</td>\n",
       "      <td>부여군 구룡면 죽절리</td>\n",
       "      <td>126.820220</td>\n",
       "      <td>36.265256</td>\n",
       "      <td>0.543011</td>\n",
       "    </tr>\n",
       "    <tr>\n",
       "      <th>4</th>\n",
       "      <td>2022</td>\n",
       "      <td>구룡면</td>\n",
       "      <td>주정1리</td>\n",
       "      <td>89</td>\n",
       "      <td>49</td>\n",
       "      <td>부여군 구룡면 주정1리</td>\n",
       "      <td>126.821951</td>\n",
       "      <td>36.253615</td>\n",
       "      <td>0.550562</td>\n",
       "    </tr>\n",
       "  </tbody>\n",
       "</table>\n",
       "</div>"
      ],
      "text/plain": [
       "     연도  읍/면     리  전체인구수  60세이상노인인구수            주소          경도         위도  \\\n",
       "0  2022  구룡면  구봉1리    110          65  부여군 구룡면 구봉1리  126.839518  36.261862   \n",
       "1  2022  구룡면  구봉2리     49          26  부여군 구룡면 구봉2리  126.839508  36.261593   \n",
       "2  2022  구룡면  구봉3리     52          33  부여군 구룡면 구봉3리  126.839729  36.261491   \n",
       "3  2022  구룡면   죽절리    186         101   부여군 구룡면 죽절리  126.820220  36.265256   \n",
       "4  2022  구룡면  주정1리     89          49  부여군 구룡면 주정1리  126.821951  36.253615   \n",
       "\n",
       "   60세이상노인비율  \n",
       "0   0.590909  \n",
       "1   0.530612  \n",
       "2   0.634615  \n",
       "3   0.543011  \n",
       "4   0.550562  "
      ]
     },
     "execution_count": 54,
     "metadata": {},
     "output_type": "execute_result"
    }
   ],
   "source": [
    "df.head()"
   ]
  },
  {
   "cell_type": "code",
   "execution_count": 56,
   "metadata": {},
   "outputs": [],
   "source": [
    "df = df.loc[:, ['연도', '경도', '위도', '60세이상노인비율']]"
   ]
  },
  {
   "cell_type": "code",
   "execution_count": null,
   "metadata": {},
   "outputs": [],
   "source": [
    "df.to_csv('./data/preprocessed_old_population.csv', encoding='utf-8-sig', index=False)"
   ]
  }
 ],
 "metadata": {
  "kernelspec": {
   "display_name": "base",
   "language": "python",
   "name": "python3"
  },
  "language_info": {
   "codemirror_mode": {
    "name": "ipython",
    "version": 3
   },
   "file_extension": ".py",
   "mimetype": "text/x-python",
   "name": "python",
   "nbconvert_exporter": "python",
   "pygments_lexer": "ipython3",
   "version": "3.9.13"
  },
  "orig_nbformat": 4
 },
 "nbformat": 4,
 "nbformat_minor": 2
}
