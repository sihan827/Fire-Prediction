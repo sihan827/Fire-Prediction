{
 "cells": [
  {
   "cell_type": "code",
   "execution_count": 12,
   "metadata": {},
   "outputs": [],
   "source": [
    "import pandas as pd\n",
    "import numpy as np\n",
    "import os"
   ]
  },
  {
   "cell_type": "code",
   "execution_count": 16,
   "metadata": {},
   "outputs": [
    {
     "data": {
      "text/plain": [
       "11"
      ]
     },
     "execution_count": 16,
     "metadata": {},
     "output_type": "execute_result"
    }
   ],
   "source": [
    "fire_data = os.listdir(\"./data/fire\")\n",
    "\n",
    "df_list = []\n",
    "for csv in fire_data:\n",
    "    df_list.append(pd.read_csv(os.path.join(\"./data/fire/\", csv)))\n",
    "\n",
    "len(df_list)"
   ]
  },
  {
   "cell_type": "code",
   "execution_count": 19,
   "metadata": {},
   "outputs": [
    {
     "data": {
      "text/plain": [
       "1823"
      ]
     },
     "execution_count": 19,
     "metadata": {},
     "output_type": "execute_result"
    }
   ],
   "source": [
    "df = pd.concat(df_list)\n",
    "df.reset_index()\n",
    "len(df)"
   ]
  },
  {
   "cell_type": "code",
   "execution_count": null,
   "metadata": {},
   "outputs": [],
   "source": [
    "df.drop(columns=[\"연번\", \"소방서\"], inplace=True)\n",
    "df[\"위도\"] = 0\n",
    "df[\"경도\"] = 0"
   ]
  },
  {
   "cell_type": "code",
   "execution_count": 33,
   "metadata": {},
   "outputs": [
    {
     "data": {
      "text/plain": [
       "Index(['조사서번호', '사망', '부상', '인명피해(명)소계', '재산피해소계', '시도본부', '119안전센터',\n",
       "       '화재발생년월일', '화재발생(년)', '화재발생(월)', '화재발생(일)', '화재발생(시)', '화재발생(분)',\n",
       "       '접수일시', '출동일시', '도착일시', '초진일시', '읍면동', '세부주소', '대상(도로)명', '소방서거리(㎞)',\n",
       "       '안전센터거리', '지역대거리', '지번동', '지번리', '도로명주소', '위도', '경도'],\n",
       "      dtype='object')"
      ]
     },
     "execution_count": 33,
     "metadata": {},
     "output_type": "execute_result"
    }
   ],
   "source": [
    "df.columns"
   ]
  },
  {
   "cell_type": "code",
   "execution_count": 36,
   "metadata": {},
   "outputs": [
    {
     "data": {
      "text/html": [
       "<div>\n",
       "<style scoped>\n",
       "    .dataframe tbody tr th:only-of-type {\n",
       "        vertical-align: middle;\n",
       "    }\n",
       "\n",
       "    .dataframe tbody tr th {\n",
       "        vertical-align: top;\n",
       "    }\n",
       "\n",
       "    .dataframe thead th {\n",
       "        text-align: right;\n",
       "    }\n",
       "</style>\n",
       "<table border=\"1\" class=\"dataframe\">\n",
       "  <thead>\n",
       "    <tr style=\"text-align: right;\">\n",
       "      <th></th>\n",
       "      <th>조사서번호</th>\n",
       "      <th>화재발생년월일</th>\n",
       "      <th>읍면동</th>\n",
       "      <th>세부주소</th>\n",
       "      <th>대상(도로)명</th>\n",
       "      <th>지역대거리</th>\n",
       "      <th>지번동</th>\n",
       "      <th>지번리</th>\n",
       "      <th>도로명주소</th>\n",
       "      <th>위도</th>\n",
       "      <th>경도</th>\n",
       "    </tr>\n",
       "  </thead>\n",
       "  <tbody>\n",
       "    <tr>\n",
       "      <th>0</th>\n",
       "      <td>'120102115833906</td>\n",
       "      <td>2012-01-02 10:23</td>\n",
       "      <td>임천면</td>\n",
       "      <td>'29-3</td>\n",
       "      <td>동식물시설(견사)</td>\n",
       "      <td>0.0</td>\n",
       "      <td>임천면</td>\n",
       "      <td>군사리</td>\n",
       "      <td>NaN</td>\n",
       "      <td>0</td>\n",
       "      <td>0</td>\n",
       "    </tr>\n",
       "    <tr>\n",
       "      <th>1</th>\n",
       "      <td>'120102231345696</td>\n",
       "      <td>2012-01-02 19:58</td>\n",
       "      <td>부여읍</td>\n",
       "      <td>'127-4</td>\n",
       "      <td>건축구조물(단독주택)</td>\n",
       "      <td>0.0</td>\n",
       "      <td>부여읍</td>\n",
       "      <td>구교리</td>\n",
       "      <td>NaN</td>\n",
       "      <td>0</td>\n",
       "      <td>0</td>\n",
       "    </tr>\n",
       "    <tr>\n",
       "      <th>2</th>\n",
       "      <td>'120103184904397</td>\n",
       "      <td>2012-01-03 17:40</td>\n",
       "      <td>규암면</td>\n",
       "      <td>'262-1</td>\n",
       "      <td>위락시설-유흥주점(베네치아)</td>\n",
       "      <td>0.0</td>\n",
       "      <td>규암면</td>\n",
       "      <td>반산리</td>\n",
       "      <td>NaN</td>\n",
       "      <td>0</td>\n",
       "      <td>0</td>\n",
       "    </tr>\n",
       "    <tr>\n",
       "      <th>3</th>\n",
       "      <td>'120105010934521</td>\n",
       "      <td>2012-01-04 22:59</td>\n",
       "      <td>임천면</td>\n",
       "      <td>'34-3</td>\n",
       "      <td>주거시설-단독주택</td>\n",
       "      <td>0.0</td>\n",
       "      <td>임천면</td>\n",
       "      <td>탑산리</td>\n",
       "      <td>탑사로 89-4</td>\n",
       "      <td>0</td>\n",
       "      <td>0</td>\n",
       "    </tr>\n",
       "    <tr>\n",
       "      <th>4</th>\n",
       "      <td>'120106035821671</td>\n",
       "      <td>2012-01-06 0:57</td>\n",
       "      <td>충화면</td>\n",
       "      <td>'224-</td>\n",
       "      <td>주거시설-단독주택</td>\n",
       "      <td>0.0</td>\n",
       "      <td>충화면</td>\n",
       "      <td>만지리</td>\n",
       "      <td>NaN</td>\n",
       "      <td>0</td>\n",
       "      <td>0</td>\n",
       "    </tr>\n",
       "  </tbody>\n",
       "</table>\n",
       "</div>"
      ],
      "text/plain": [
       "              조사서번호           화재발생년월일  읍면동     세부주소          대상(도로)명  지역대거리  \\\n",
       "0  '120102115833906  2012-01-02 10:23  임천면   '29-3         동식물시설(견사)    0.0   \n",
       "1  '120102231345696  2012-01-02 19:58  부여읍  '127-4       건축구조물(단독주택)    0.0   \n",
       "2  '120103184904397  2012-01-03 17:40  규암면  '262-1   위락시설-유흥주점(베네치아)    0.0   \n",
       "3  '120105010934521  2012-01-04 22:59  임천면   '34-3         주거시설-단독주택    0.0   \n",
       "4  '120106035821671   2012-01-06 0:57  충화면   '224-         주거시설-단독주택    0.0   \n",
       "\n",
       "   지번동  지번리     도로명주소  위도  경도  \n",
       "0  임천면  군사리       NaN   0   0  \n",
       "1  부여읍  구교리       NaN   0   0  \n",
       "2  규암면  반산리       NaN   0   0  \n",
       "3  임천면  탑산리  탑사로 89-4   0   0  \n",
       "4  충화면  만지리       NaN   0   0  "
      ]
     },
     "execution_count": 36,
     "metadata": {},
     "output_type": "execute_result"
    }
   ],
   "source": [
    "labelling_df = df[\n",
    "    [\"조사서번호\", \"화재발생년월일\", \"읍면동\", \"세부주소\", \"대상(도로)명\", \"지역대거리\", \"지번동\", \"지번리\", \"도로명주소\", \"위도\", \"경도\"]\n",
    "]\n",
    "labelling_df.head()"
   ]
  },
  {
   "cell_type": "code",
   "execution_count": 39,
   "metadata": {},
   "outputs": [],
   "source": [
    "labelling_df.to_csv(\"./fire.csv\", index=False, encoding='utf-8-sig')"
   ]
  }
 ],
 "metadata": {
  "kernelspec": {
   "display_name": "base",
   "language": "python",
   "name": "python3"
  },
  "language_info": {
   "codemirror_mode": {
    "name": "ipython",
    "version": 3
   },
   "file_extension": ".py",
   "mimetype": "text/x-python",
   "name": "python",
   "nbconvert_exporter": "python",
   "pygments_lexer": "ipython3",
   "version": "3.9.13"
  },
  "orig_nbformat": 4,
  "vscode": {
   "interpreter": {
    "hash": "83db2342385cf2bd41f1eb49df0091e0e69eaad3390aeaaf3bdb9725b3e9db76"
   }
  }
 },
 "nbformat": 4,
 "nbformat_minor": 2
}
