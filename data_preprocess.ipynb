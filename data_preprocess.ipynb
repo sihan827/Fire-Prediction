{
 "cells": [
  {
   "cell_type": "code",
   "execution_count": 2,
   "metadata": {},
   "outputs": [],
   "source": [
    "import pandas as pd\n",
    "import numpy as np\n",
    "import folium\n",
    "import matplotlib.pyplot as plt\n",
    "import matplotlib as mpl\n",
    "import seaborn as sns\n",
    "import os"
   ]
  },
  {
   "cell_type": "code",
   "execution_count": null,
   "metadata": {},
   "outputs": [],
   "source": [
    "# x: 0-14, y: 0-14, date: 2012.01.01-2022.12.31, \n",
    "주택\n",
    "임야\n",
    "비닐하우스\n",
    "상가\n",
    "축사\n",
    "자동차\n",
    "기타\n",
    "쓰레기\n",
    "공장\n",
    "창고\n",
    "균사"
   ]
  },
  {
   "cell_type": "code",
   "execution_count": 3,
   "metadata": {},
   "outputs": [],
   "source": [
    "df = pd.read_csv('./data/preprocessed_greenhouse.csv')"
   ]
  },
  {
   "cell_type": "code",
   "execution_count": 8,
   "metadata": {},
   "outputs": [
    {
     "data": {
      "text/plain": [
       "컨테이너조       1254\n",
       "기타강구조        828\n",
       "경량철골구조       783\n",
       "조립식판넬조       489\n",
       "강파이프구조       454\n",
       "기타구조         100\n",
       "일반목구조         30\n",
       "일반철골구조        24\n",
       "막구조           11\n",
       "철파이프조          3\n",
       "스틸하우스조         2\n",
       "벽돌구조           1\n",
       "기타콘크리트구조       1\n",
       "Name: 구조, dtype: int64"
      ]
     },
     "execution_count": 8,
     "metadata": {},
     "output_type": "execute_result"
    }
   ],
   "source": [
    "df['구조'].value_counts()"
   ]
  }
 ],
 "metadata": {
  "kernelspec": {
   "display_name": "base",
   "language": "python",
   "name": "python3"
  },
  "language_info": {
   "codemirror_mode": {
    "name": "ipython",
    "version": 3
   },
   "file_extension": ".py",
   "mimetype": "text/x-python",
   "name": "python",
   "nbconvert_exporter": "python",
   "pygments_lexer": "ipython3",
   "version": "3.9.13"
  },
  "orig_nbformat": 4
 },
 "nbformat": 4,
 "nbformat_minor": 2
}
